{
 "cells": [
  {
   "cell_type": "code",
   "execution_count": null,
   "id": "729869e1",
   "metadata": {},
   "outputs": [],
   "source": [
    "# versions: pandas==2.0.3, lifelines==0.27.8, nibabel==5.2.1, numpy==1.24.4, scipy==1.8.0, statsmodels==0.14.1,scikit-learn==1.3.2"
   ]
  },
  {
   "cell_type": "code",
   "execution_count": null,
   "id": "1cc80121",
   "metadata": {},
   "outputs": [],
   "source": []
  },
  {
   "cell_type": "code",
   "execution_count": null,
   "id": "94855228",
   "metadata": {},
   "outputs": [],
   "source": [
    "import pandas as pd\n",
    "from lifelines import CoxPHFitter\n",
    "import numpy as np\n",
    "import statsmodels.stats.multitest as smt\n",
    "import nibabel as nib\n",
    "from sklearn.preprocessing import RobustScaler"
   ]
  },
  {
   "cell_type": "code",
   "execution_count": null,
   "id": "1541555a",
   "metadata": {},
   "outputs": [],
   "source": [
    "DATASET_TRAIN=\"./data/CN+MCI_BL+VOL_train.csv\"\n",
    "DATASET_TEST=\"./data/CN+MCI_BL+VOL_test.csv\""
   ]
  },
  {
   "cell_type": "code",
   "execution_count": null,
   "id": "6d8871ea",
   "metadata": {},
   "outputs": [],
   "source": [
    "FASTSURFER_OUTPUT_DIR=\"./data/ADNI/output_fastsurfer/\"\n",
    "VBM_RESULTS_DIR=\"./results/VBM/ADNI/\""
   ]
  },
  {
   "cell_type": "code",
   "execution_count": null,
   "id": "e983f5c1",
   "metadata": {},
   "outputs": [],
   "source": [
    "traindf=pd.read_csv(DATASET_TRAIN)\n",
    "testdf=pd.read_csv(DATASET_TEST)"
   ]
  },
  {
   "cell_type": "code",
   "execution_count": null,
   "id": "e68c5e8e",
   "metadata": {},
   "outputs": [],
   "source": [
    "unc_p_values=[]\n",
    "for i in range(0,1749353):\n",
    "    df=pd.read_csv(VBM_RESULTS_DIR+\"/FastSurfer_Results_TimeToEvent_all_Untersuchung_TrainValidTest_pixel_\"+str(i)+\".csv\",header=None)\n",
    "    df.columns=[\"pixel\",\"age\",\"gender\",\"time\",\"status\",\"fieldstrength\",\"eTIV\",\"PTID\",\"imageuid\"]\n",
    "    train=df[df.imageuid.isin(traindf.IMAGEUID)]\n",
    "    df=df[df.imageuid.isin(testdf.IMAGEUID)]\n",
    "    df=df.drop_duplicates(\"imageuid\")\n",
    "    train=train.drop_duplicates(\"imageuid\")\n",
    "\n",
    "    df.loc[df[\"fieldstrength\"]==\"1.5 T\",\"fieldstrength\"]=0\n",
    "    df.loc[df[\"fieldstrength\"]==\"3.0 T\",\"fieldstrength\"]=1\n",
    "    train.loc[train[\"fieldstrength\"]==\"1.5 T\",\"fieldstrength\"]=0\n",
    "    train.loc[train[\"fieldstrength\"]==\"3.0 T\",\"fieldstrength\"]=1\n",
    "    df=df.drop(\"imageuid\",axis=1)\n",
    "    df=df.drop(\"PTID\",axis=1)\n",
    "    train=train.drop(\"imageuid\",axis=1)\n",
    "    train=train.drop(\"PTID\",axis=1)\n",
    "\n",
    "    df=df.astype({\"fieldstrength\": \"int64\"})\n",
    "    train=train.astype({\"fieldstrength\": \"int64\"})\n",
    "\n",
    "    if(i%10000==0):\n",
    "        print(\"Pixel \"+str(i)+\" of \"+ str(1749353)+ \" (\"+str(i/1749353)+\" %)\")\n",
    "    df[\"status_corr\"]=df.status.isin([\"pCN\",\"pMCI\"])\n",
    "    train[\"status_corr\"]=train.status.isin([\"pCN\",\"pMCI\"])\n",
    "    df=df.drop(\"status\",axis=1)\n",
    "    train=train.drop(\"status\",axis=1)\n",
    "    scaler = RobustScaler().fit(train.drop([\"time\",\"status_corr\"],axis=1))\n",
    "    df_pre=scaler.transform(df.drop([\"time\",\"status_corr\"],axis=1))\n",
    "    df[df.drop([\"time\",\"status_corr\"],axis=1).columns]=df_pre\n",
    "    if(df.pixel.var()==0.0):\n",
    "        unc_p_values.append(1.0)\n",
    "    else:\n",
    "        cph = CoxPHFitter(penalizer=0.1)\n",
    "        cph.fit(df, \"time\", \"status_corr\" )\n",
    "        p_values = cph.summary[\"p\"]\n",
    "        unc_p_values.append(p_values[\"pixel\"])"
   ]
  },
  {
   "cell_type": "code",
   "execution_count": null,
   "id": "bd097c1f",
   "metadata": {},
   "outputs": [],
   "source": [
    "img=np.reshape(unc_p_values, (113,137, 113))\n",
    "img=(img-1)*(-1)\n",
    "new_image = nib.Nifti1Image(img, affine=np.eye(4))"
   ]
  },
  {
   "cell_type": "code",
   "execution_count": null,
   "id": "1d890ae4",
   "metadata": {},
   "outputs": [],
   "source": [
    "nib.save(new_image, VBM_RESULTS_DIR+\"/VBM_p_value_results_uncorrected.nii.gz\")  "
   ]
  },
  {
   "cell_type": "code",
   "execution_count": null,
   "id": "3cdf78ce",
   "metadata": {},
   "outputs": [],
   "source": [
    "res=smt.multipletests(unc_p_values, alpha=0.01, method=\"fdr_bh\", is_sorted=False, returnsorted=False)\n",
    "img=np.reshape(res[1].tolist(), (113,137, 113))"
   ]
  },
  {
   "cell_type": "code",
   "execution_count": null,
   "id": "d4040a75",
   "metadata": {},
   "outputs": [],
   "source": [
    "img=(img-1)*(-1)"
   ]
  },
  {
   "cell_type": "code",
   "execution_count": null,
   "id": "0b3cf413",
   "metadata": {},
   "outputs": [],
   "source": [
    "new_image = nib.Nifti1Image(img, affine=np.eye(4))"
   ]
  },
  {
   "cell_type": "code",
   "execution_count": null,
   "id": "51fd0802",
   "metadata": {},
   "outputs": [],
   "source": [
    "nib.save(new_image, VBM_RESULTS_DIR+\"/VBM_p_value_results_all_fdr.nii.gz\")  "
   ]
  }
 ],
 "metadata": {
  "kernelspec": {
   "display_name": "Python 3 (ipykernel)",
   "language": "python",
   "name": "python3"
  },
  "language_info": {
   "codemirror_mode": {
    "name": "ipython",
    "version": 3
   },
   "file_extension": ".py",
   "mimetype": "text/x-python",
   "name": "python",
   "nbconvert_exporter": "python",
   "pygments_lexer": "ipython3",
   "version": "3.8.10"
  }
 },
 "nbformat": 4,
 "nbformat_minor": 5
}
