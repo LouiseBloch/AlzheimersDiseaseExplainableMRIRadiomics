{
 "cells": [
  {
   "cell_type": "code",
   "execution_count": null,
   "id": "0c0baf52",
   "metadata": {},
   "outputs": [],
   "source": []
  },
  {
   "cell_type": "code",
   "execution_count": null,
   "id": "b047413d",
   "metadata": {},
   "outputs": [],
   "source": [
    "#versions: pandas==2.0.3, scikit-survival==0.22.2"
   ]
  },
  {
   "cell_type": "code",
   "execution_count": null,
   "id": "568105b9",
   "metadata": {},
   "outputs": [],
   "source": [
    "import pandas as pd\n",
    "from collections import OrderedDict\n",
    "from sklearn.model_selection import train_test_split"
   ]
  },
  {
   "cell_type": "code",
   "execution_count": null,
   "id": "c0e5f540",
   "metadata": {},
   "outputs": [],
   "source": [
    "OUTPUT_FASTSURFER_DIR = \"./data/ADNI/output_fastsurfer/\"\n",
    "ADNIMERGE_STATA_DIR=\"./data/ADNI/ADNIMERGE_Stata/\"\n",
    "RESULTS_FILE_SUMMARY = \"./data/ADNI/summary_scan_level.csv\"\n",
    "FASTSURFER_MAPPING = \"./data/Freesurfer-LUT_new.txt\"\n",
    "MPRAGE_METADATA = \"./data/ADNI/MPRAGEMETA_09Jul2024.csv\"# extracted from LONI, contains columns \"Orig/Proc\",\"SubjectID\",\"Visit\",\"MagStrength\",\"Sequence\",\"ScanDate\",\"StudyID\",\"SeriesID\",\"ImageUID\" for all ADNI scans\n",
    "SAVEDIR = \"./data/\""
   ]
  },
  {
   "cell_type": "code",
   "execution_count": null,
   "id": "5df91fb1",
   "metadata": {},
   "outputs": [],
   "source": []
  },
  {
   "cell_type": "code",
   "execution_count": null,
   "id": "d45af8fc",
   "metadata": {},
   "outputs": [],
   "source": []
  },
  {
   "cell_type": "code",
   "execution_count": null,
   "id": "0882a796",
   "metadata": {},
   "outputs": [],
   "source": [
    "FEATURE_SET = \"BL+VOL\"#one of \"BL\", \"BL+VOL\", \"BL+RAD\", \"BL+VOL+RAD\", \"rBL\", \"rBL+VOL\", \"rBL+RAD\", \"rBL+VOL+RAD\"\n",
    "DATASET_SEL = \"CN+MCI\" #one of \"CN+MCI\", \"MCI\""
   ]
  },
  {
   "cell_type": "code",
   "execution_count": null,
   "id": "b78801ec",
   "metadata": {},
   "outputs": [],
   "source": [
    "TRAINING_SET = \"./data/train_\"+DATASET_SEL+\".csv\"\n",
    "TEST_SET = \"./data/test_\"+DATASET_SEL+\".csv\""
   ]
  },
  {
   "cell_type": "code",
   "execution_count": null,
   "id": "06d08617",
   "metadata": {},
   "outputs": [],
   "source": [
    "data_aseg = pd.read_table(OUTPUT_FASTSURFER_DIR+\"aseg_stats.txt\")\n",
    "data_wmparc = pd.read_table(OUTPUT_FASTSURFER_DIR+\"wmparc_stats.txt\")\n",
    "data_lhDKT = pd.read_table(OUTPUT_FASTSURFER_DIR+\"lh.aparc.DKTatlas.mapped.volume.txt\")\n",
    "data_rhDKT = pd.read_table(OUTPUT_FASTSURFER_DIR+\"rh.aparc.DKTatlas.mapped.volume.txt\")\n",
    "\n",
    "\n",
    "data_lhDKT = data_lhDKT.rename({\"lh.aparc.DKTatlas.mapped.volume\":\"filename\"},axis=1)\n",
    "data_rhDKT = data_rhDKT.rename({\"rh.aparc.DKTatlas.mapped.volume\":\"filename\"},axis=1)\n",
    "data_aseg = data_aseg.rename({\"Measure:volume\":\"filename\"},axis=1)\n",
    "data_wmparc = data_wmparc.rename({\"Measure:volume\":\"filename\"},axis=1)\n",
    "\n",
    "df = pd.merge(data_lhDKT,data_rhDKT,on=\"filename\",suffixes=(\"\", \"_y\"))\n",
    "\n",
    "df = pd.merge(df,data_wmparc,on=\"filename\",suffixes=(\"\", \"_y\"))\n",
    "df =pd.merge(df,data_aseg,on=\"filename\",suffixes=(\"\", \"_y\"))\n",
    "\n",
    "\n",
    "cols = [c for c in df.columns if not c.endswith(\"_y\")]\n",
    "df_vol=df[cols]\n",
    "df_vol[\"PTID\"]=df_vol.filename.str.extract(r\"(\\d{3}_S_\\d{4})\")\n",
    "df_vol[\"IMAGEUID\"]=df_vol.filename.str.split(\"_I\").str[-1].str[:-1]\n",
    "\n",
    "df_vol=df_vol.astype({\"IMAGEUID\": \"str\"})\n",
    "df_vol.iloc[:,1:191]=df_vol.iloc[:,1:191].div(df_vol.EstimatedTotalIntraCranialVol, axis=0)"
   ]
  },
  {
   "cell_type": "code",
   "execution_count": null,
   "id": "bf4803b9",
   "metadata": {},
   "outputs": [],
   "source": [
    "#Load texture data\n",
    "texture=pd.read_csv(RESULTS_FILE_SUMMARY)\n",
    "\n",
    "texture=texture[~texture.path.str.contains(\"AIBL\")]\n",
    "\n",
    "texture[\"PTID\"]=texture.path.str.extract(r\"(\\d{3}_S_\\d{4})\")\n",
    "\n",
    "texture[\"IMAGEUID\"]=texture.path.str.split(\"_I\").str[-1].str.split(\"/\").str[0]\n",
    "\n",
    "texture=texture.drop([\"path\"],axis=1)\n",
    "\n",
    "texture=texture.astype({\"IMAGEUID\":\"int\"})\n",
    "texture=texture.astype({\"IMAGEUID\":\"str\"})\n",
    "\n",
    "freeSurfer_LUT=pd.read_table(FASTSURFER_MAPPING, sep=\";\")\n",
    "df=pd.DataFrame([texture.drop([\"PTID\",\"IMAGEUID\"],axis=1).columns,texture.drop([\"PTID\",\"IMAGEUID\"],axis=1).columns.str.split(\"_\").str[-1],texture.drop([\"PTID\",\"IMAGEUID\"],axis=1).columns.str.rsplit(\"_\", n=1).str.get(0)]).transpose()\n",
    "df.columns=[\"feature_name\",\"region\",\"feature_name_without_region\"]\n",
    "df.region=pd.to_numeric(df.region)\n",
    "dfmerged=pd.merge(df,freeSurfer_LUT,left_on=\"region\",right_on=\"0\", how=\"left\")\n",
    "cnames=dfmerged.feature_name+\"_\"+dfmerged.Unknown\n",
    "cnames=cnames.tolist()\n",
    "cnames.append(\"PTID\")\n",
    "cnames.append(\"IMAGEUID\")\n",
    "texture.columns=cnames"
   ]
  },
  {
   "cell_type": "code",
   "execution_count": null,
   "id": "a3d7bfd0",
   "metadata": {},
   "outputs": [],
   "source": [
    "adnimerge = pd.read_stata(ADNIMERGE_STATA_DIR+\"adnimerge.dta\")\n",
    "adnimerge=adnimerge[~adnimerge.DX.isna()]"
   ]
  },
  {
   "cell_type": "code",
   "execution_count": null,
   "id": "959f59d1",
   "metadata": {},
   "outputs": [],
   "source": []
  },
  {
   "cell_type": "code",
   "execution_count": null,
   "id": "51535682",
   "metadata": {},
   "outputs": [],
   "source": [
    "adni_cdr = pd.read_stata(ADNIMERGE_STATA_DIR+\"cdr.dta\")\n",
    "adni_cdr.loc[adni_cdr.VISCODE==\"sc\",\"VISCODE\"]=\"bl\"\n",
    "adni_cdr=adni_cdr.filter([\"VISCODE\",\"RID\",\"CDGLOBAL\"])\n",
    "adnimerge=pd.merge(adnimerge,adni_cdr,on=[\"VISCODE\",\"RID\"],how=\"left\")\n",
    "adni_limm = pd.read_stata(ADNIMERGE_STATA_DIR+\"neurobat.dta\")\n",
    "adni_limm.loc[adni_limm.VISCODE==\"sc\",\"VISCODE\"]=\"bl\"\n",
    "adni_limm=adni_limm.filter([\"VISCODE\",\"RID\",\"LIMMTOTAL\"])\n",
    "adnimerge=pd.merge(adnimerge,adni_limm,on=[\"VISCODE\",\"RID\"],how=\"left\")\n",
    "\n",
    "adnimerge.AGE=adnimerge.AGE+adnimerge.Years_bl\n",
    "adnimerge=adnimerge.round({\"AGE\":1})"
   ]
  },
  {
   "cell_type": "code",
   "execution_count": null,
   "id": "11e19ee3",
   "metadata": {},
   "outputs": [],
   "source": []
  },
  {
   "cell_type": "code",
   "execution_count": null,
   "id": "f111b349",
   "metadata": {},
   "outputs": [],
   "source": [
    "df_tte=pd.DataFrame(columns=[\"PTID\",\"Status\",\"Time\",\"Ref_age\"])\n",
    "for PTID in adnimerge.PTID.unique():\n",
    "    df_PTID=adnimerge[adnimerge.PTID==PTID]\n",
    "    df_PTID=df_PTID.sort_values(\"AGE\")\n",
    "    status=\"\"\n",
    "    time=0.0\n",
    "    if len(df_PTID.DX.unique())==1:\n",
    "        if (df_PTID.DX.unique()[0]==\"MCI\"):\n",
    "            status=\"sMCI\"\n",
    "            time=df_PTID.AGE.max()-df_PTID.AGE.min()\n",
    "            ref_age=df_PTID.AGE.min()\n",
    "        else:\n",
    "            if (df_PTID.DX.unique()[0]==\"CN\"):\n",
    "                status=\"sCN\"\n",
    "                time=df_PTID.AGE.max()-df_PTID.AGE.min()\n",
    "                ref_age=df_PTID.AGE.min()\n",
    "    else:\n",
    "        if \"Dementia\" in df_PTID.DX.tolist():\n",
    "            if (all((df_PTID.sort_values(\"DX\").reset_index().AGE)==(df_PTID.reset_index().AGE))):\n",
    "                if df_PTID.iloc[0].DX==\"MCI\":\n",
    "                    status=\"pMCI\"\n",
    "                else:\n",
    "                    if df_PTID.iloc[0].DX==\"CN\":\n",
    "                        status=\"pCN\"\n",
    "                df_PTID_AD=df_PTID[df_PTID.DX==\"Dementia\"]\n",
    "                time=df_PTID_AD.AGE.min() - df_PTID.AGE.min()\n",
    "                ref_age=df_PTID.AGE.min()\n",
    "            else:\n",
    "                if df_PTID.iloc[0].DX==\"MCI\":\n",
    "                    df_PTID_AD=df_PTID[df_PTID.DX==\"Dementia\"]\n",
    "                    df_PTID_CN=df_PTID[df_PTID.DX==\"CN\"]\n",
    "                    df_PTID_MCI=df_PTID[df_PTID.DX==\"MCI\"]\n",
    "                    value_AD=df_PTID_AD.AGE.min()\n",
    "                    value_MCI=df_PTID_MCI.AGE.max()\n",
    "                    if(df_PTID_CN.shape[0]==0):\n",
    "                        value_CN=0\n",
    "                    else:\n",
    "                        value_CN=df_PTID_CN.AGE.max()\n",
    "                    if(value_CN<value_AD and value_MCI<value_AD):\n",
    "                        status=\"uMCIADClear\"\n",
    "                    else:\n",
    "                        status=\"uMCIADUnclear\"\n",
    "                else:\n",
    "                    if df_PTID.iloc[0].DX==\"CN\":\n",
    "                        df_PTID_AD=df_PTID[df_PTID.DX==\"Dementia\"]\n",
    "                        df_PTID_CN=df_PTID[df_PTID.DX==\"CN\"]\n",
    "                        df_PTID_MCI=df_PTID[df_PTID.DX==\"MCI\"]\n",
    "                        value_AD=df_PTID_AD.AGE.min()\n",
    "                        value_CN=df_PTID_CN.AGE.max()\n",
    "                        if(df_PTID_MCI.shape[0]==0):\n",
    "                            value_MCI=0\n",
    "                        else:\n",
    "                            value_MCI=df_PTID_MCI.AGE.max()\n",
    "                        if(value_CN<value_AD and value_MCI<value_AD):\n",
    "                            status=\"uCNADClear\"\n",
    "                        else:\n",
    "                            status=\"uCNADUnclear\"\n",
    "                df_PTID_AD=df_PTID[df_PTID.DX==\"Dementia\"]\n",
    "                time=df_PTID_AD.AGE.min()-df_PTID.AGE.min()\n",
    "                ref_age=df_PTID.AGE.min()\n",
    "        else:\n",
    "            if (all((df_PTID.sort_values(\"DX\").reset_index().AGE)==(df_PTID.reset_index().AGE))):\n",
    "                if df_PTID.iloc[0].DX==\"CN\":\n",
    "                    status=\"CNtoMCI\"\n",
    "                    time=df_PTID.AGE.max()-df_PTID.AGE.min()\n",
    "                    ref_age=df_PTID.AGE.min()\n",
    "            else:\n",
    "                if df_PTID.iloc[0].DX==\"MCI\":\n",
    "                    status=\"uMCINoAD\"\n",
    "                else:\n",
    "                    if df_PTID.iloc[0].DX==\"CN\":\n",
    "                        status=\"uCNNoAD\"\n",
    "                time=df_PTID.AGE.max()-df_PTID.AGE.min()\n",
    "                ref_age=df_PTID.AGE.min()\n",
    "    if not ((len(df_PTID.DX.unique())==1) and (df_PTID.iloc[0].DX==\"Dementia\")):\n",
    "        if not((~df_PTID.IMAGEUID.isna()).sum() ==0):\n",
    "            df_tte=pd.concat([df_tte,pd.DataFrame({\"PTID\":[PTID],\"Status\":[status], \"Time\": [time],\"Ref_age\":[ref_age]})],ignore_index=True)"
   ]
  },
  {
   "cell_type": "code",
   "execution_count": null,
   "id": "94f255be",
   "metadata": {},
   "outputs": [],
   "source": []
  },
  {
   "cell_type": "code",
   "execution_count": null,
   "id": "11361f89",
   "metadata": {},
   "outputs": [],
   "source": [
    "if DATASET_SEL==\"MCI\":\n",
    "    df_tte=df_tte[df_tte.Status.isin([\"sMCI\",\"pMCI\",\"uMCINoAD\",\"uMCIADClear\"])]\n",
    "else:\n",
    "    df_tte=df_tte[df_tte.Status.isin([\"sCN\",\"sMCI\",\"pMCI\",\"uMCINoAD\",\"uCNNoAD\",\"uMCIADClear\",\"uCNADClear\",\"CNtoMCI\",\"pCN\"])]\n",
    "\n",
    "adnimerge=pd.merge(adnimerge,df_tte,on=\"PTID\")"
   ]
  },
  {
   "cell_type": "code",
   "execution_count": null,
   "id": "2a782543",
   "metadata": {},
   "outputs": [],
   "source": []
  },
  {
   "cell_type": "code",
   "execution_count": null,
   "id": "63b6572c",
   "metadata": {},
   "outputs": [],
   "source": [
    "adnimerge=adnimerge[~adnimerge.IMAGEUID.isna()]\n",
    "adnimerge=adnimerge.astype({\"IMAGEUID\":\"int\"})\n",
    "adnimerge=adnimerge.astype({\"IMAGEUID\":\"str\"})"
   ]
  },
  {
   "cell_type": "code",
   "execution_count": null,
   "id": "6f2ad2b7",
   "metadata": {},
   "outputs": [],
   "source": [
    "df_ges=pd.merge(df_vol,adnimerge,on=\"IMAGEUID\",how=\"inner\")\n",
    "df_ges=pd.merge(texture,df_ges,on=\"IMAGEUID\",how=\"inner\")"
   ]
  },
  {
   "cell_type": "code",
   "execution_count": null,
   "id": "190bd731",
   "metadata": {},
   "outputs": [],
   "source": []
  },
  {
   "cell_type": "code",
   "execution_count": null,
   "id": "62085aef",
   "metadata": {},
   "outputs": [],
   "source": [
    "df_ges.Time=df_ges.Time-(df_ges.AGE-df_ges.Ref_age)\n",
    "df_ges=df_ges[df_ges.Time>0.1]"
   ]
  },
  {
   "cell_type": "code",
   "execution_count": null,
   "id": "601ba249",
   "metadata": {},
   "outputs": [],
   "source": [
    "mappingData=pd.read_csv(MPRAGE_METADATA)\n",
    "mappingData=mappingData.filter(items=[\"ImageUID\",\"MagStrength\"])\n",
    "mappingData=mappingData.rename(columns={\"ImageUID\": \"IMAGEUID\"})\n",
    "mappingData=mappingData.astype({\"IMAGEUID\": \"str\"})\n",
    "df_ges=pd.merge(df_ges,mappingData,on=\"IMAGEUID\",how=\"left\")"
   ]
  },
  {
   "cell_type": "code",
   "execution_count": null,
   "id": "86ae593f",
   "metadata": {},
   "outputs": [],
   "source": [
    "df_ges=df_ges.drop_duplicates(\"IMAGEUID\")"
   ]
  },
  {
   "cell_type": "code",
   "execution_count": null,
   "id": "ff5f4a48",
   "metadata": {},
   "outputs": [],
   "source": [
    "list_status=list()\n",
    "for i, dat in df_ges.iterrows():\n",
    "    statNew=False\n",
    "    if (dat.Status==\"sCN\") or (dat.Status==\"sMCI\") or (dat.Status==\"CNtoMCI\") or (dat.Status==\"uMCINoAD\") or (dat.Status==\"uCNNoAD\"):\n",
    "        statNew=False\n",
    "    else:\n",
    "        statNew=True\n",
    "    list_status.append(statNew)\n",
    "\n",
    "df_ges.Status_new=list_status\n",
    "\n",
    "gen = pd.read_stata(ADNIMERGE_STATA_DIR+\"desikanlab.dta\")  \n",
    "gen=gen.drop([\"ORIGPROT\",\"USERDATE\"],axis=1)\n",
    "df_ges=pd.merge(df_ges,gen,on=\"RID\",how=\"left\")"
   ]
  },
  {
   "cell_type": "code",
   "execution_count": null,
   "id": "2f4a5327",
   "metadata": {},
   "outputs": [],
   "source": [
    "features_bl=[\"PTID\",\"PTGENDER\",\"PTEDUCAT\",\"PTETHCAT\",\"PTRACCAT\",\"PTMARRY\",\"APOE4\",\"ADAS11\",\"ADAS13\",\"ADASQ4\",\"MMSE\",\"CDRSB\",\"CDGLOBAL\",\"LIMMTOTAL\",\"RAVLT_immediate\",\"RAVLT_learning\",\"RAVLT_forgetting\",\"RAVLT_perc_forgetting\",\"mPACCdigit\",\"mPACCtrailsB\",\"LDELTOT\",\"DIGIT\",\"TRAB\",\"FAQ\",\"MOCA\",\"EcogPtMem\",\"EcogPtLang\",\"EcogPtVisspat\",\"EcogPtPlan\",\"EcogPtOrgan\",\"EcogPtDivatt\",\"EcogPtTotal\",\"EcogSPMem\",\"EcogSPLang\",\"EcogSPVisspat\",\"EcogSPPlan\",\"EcogSPOrgan\",\"EcogSPDivatt\",\"EcogSPTotal\",\"AGE\",\"IMAGEUID\",\"PHS\",\"CIR\"]\n",
    "\n",
    "features_rbl=[\"PTID\",\"PTGENDER\",\"APOE4\",\"MMSE\",\"CDGLOBAL\",\"AGE\",\"IMAGEUID\"]\n",
    "\n",
    "features_vol=[\"PTID\",\"IMAGEUID\",\"lhCerebralWhiteMatterVol\",\"Left-Lateral-Ventricle\",\"Left-Inf-Lat-Vent\",\"Left-Cerebellum-White-Matter\",\"Left-Cerebellum-Cortex\",\"Left-Thalamus\",\"Left-Caudate\",\"Left-Putamen\",\"Left-Pallidum\",\"3rd-Ventricle\",\"4th-Ventricle\",\"Brain-Stem\",\"Left-Hippocampus\",\"Left-Amygdala\",\"CSF\",\"Left-Accumbens-area\",\n",
    "              \"Left-VentralDC\",\"Left-choroid-plexus\",\"rhCerebralWhiteMatterVol\",\"Right-Lateral-Ventricle\",\"Right-Inf-Lat-Vent\",\"Right-Cerebellum-White-Matter\",\"Right-Cerebellum-Cortex\",\n",
    "              \"Right-Thalamus\",\"Right-Caudate\",\"Right-Putamen\",\"Right-Pallidum\",\"Right-Hippocampus\",\"Right-Amygdala\",\"Right-Accumbens-area\",\"Right-VentralDC\",\"Right-choroid-plexus\",\n",
    "              \"WM-hypointensities\",\"lh_caudalanteriorcingulate_volume\",\"lh_caudalmiddlefrontal_volume\",\"lh_cuneus_volume\",\"lh_entorhinal_volume\",\"lh_fusiform_volume\",\"lh_inferiorparietal_volume\",\n",
    "              \"lh_inferiortemporal_volume\",\"lh_isthmuscingulate_volume\",\"lh_lateraloccipital_volume\",\"lh_lateralorbitofrontal_volume\",\"lh_lingual_volume\",\"lh_medialorbitofrontal_volume\",\n",
    "              \"lh_middletemporal_volume\",\"lh_parahippocampal_volume\",\"lh_paracentral_volume\",\"lh_parsopercularis_volume\",\"lh_parsorbitalis_volume\",\"lh_parstriangularis_volume\",\"lh_pericalcarine_volume\",\n",
    "              \"lh_postcentral_volume\",\"lh_posteriorcingulate_volume\",\"lh_precentral_volume\",\"lh_precuneus_volume\",\"lh_rostralanteriorcingulate_volume\",\"lh_rostralmiddlefrontal_volume\",\n",
    "              \"lh_superiorfrontal_volume\",\"lh_superiorparietal_volume\",\"lh_superiortemporal_volume\",\"lh_supramarginal_volume\",\"lh_transversetemporal_volume\",\"lh_insula_volume\",\n",
    "              \"rh_caudalanteriorcingulate_volume\",\"rh_caudalmiddlefrontal_volume\",\"rh_cuneus_volume\",\"rh_entorhinal_volume\",\"rh_fusiform_volume\",\"rh_inferiorparietal_volume\",\n",
    "              \"rh_inferiortemporal_volume\",\"rh_isthmuscingulate_volume\",\"rh_lateraloccipital_volume\",\"rh_lateralorbitofrontal_volume\",\"rh_lingual_volume\",\"rh_medialorbitofrontal_volume\",\n",
    "              \"rh_middletemporal_volume\",\"rh_parahippocampal_volume\",\"rh_paracentral_volume\",\"rh_parsopercularis_volume\",\"rh_parsorbitalis_volume\",\"rh_parstriangularis_volume\",\n",
    "              \"rh_pericalcarine_volume\",\"rh_postcentral_volume\",\"rh_posteriorcingulate_volume\",\"rh_precentral_volume\",\"rh_precuneus_volume\",\"rh_rostralanteriorcingulate_volume\",\n",
    "              \"rh_rostralmiddlefrontal_volume\",\"rh_superiorfrontal_volume\",\"rh_superiorparietal_volume\",\"rh_superiortemporal_volume\",\"rh_supramarginal_volume\",\"rh_transversetemporal_volume\",\"rh_insula_volume\",\"MagStrength\",\"EstimatedTotalIntraCranialVol\"]\n",
    "\n",
    "features_texture=list(texture.columns)\n",
    "features_texture.append(\"MagStrength\")\n",
    "features_texture.append(\"EstimatedTotalIntraCranialVol\")\n"
   ]
  },
  {
   "cell_type": "code",
   "execution_count": null,
   "id": "ea298679",
   "metadata": {},
   "outputs": [],
   "source": [
    "selected_features=list()\n",
    "selected_features.append(\"Time\")\n",
    "selected_features.append(\"Status\")\n",
    "selected_features.append(\"Status_new\")\n"
   ]
  },
  {
   "cell_type": "code",
   "execution_count": null,
   "id": "e29bea5e",
   "metadata": {},
   "outputs": [],
   "source": [
    "if(FEATURE_SET==\"BL\"):\n",
    "    for i in features_bl:\n",
    "        selected_features.append(i)\n",
    "if(FEATURE_SET==\"BL+VOL\"):\n",
    "    for i in features_bl:\n",
    "        selected_features.append(i)\n",
    "    for i in features_vol:\n",
    "        selected_features.append(i)\n",
    "if(FEATURE_SET==\"BL+RAD\"):\n",
    "    for i in features_bl:\n",
    "        selected_features.append(i)\n",
    "    for i in features_texture:\n",
    "        selected_features.append(i)\n",
    "if(FEATURE_SET==\"BL+VOL+RAD\"):\n",
    "    for i in features_bl:\n",
    "        selected_features.append(i)\n",
    "    for i in features_vol:\n",
    "        selected_features.append(i)\n",
    "    for i in features_texture:\n",
    "        selected_features.append(i)\n",
    "if(FEATURE_SET==\"rBL\"):\n",
    "    for i in features_rbl:\n",
    "        selected_features.append(i)\n",
    "if(FEATURE_SET==\"rBL+VOL\"):\n",
    "    for i in features_rbl:\n",
    "        selected_features.append(i)\n",
    "    for i in features_vol:\n",
    "        selected_features.append(i)\n",
    "if(FEATURE_SET==\"rBL+RAD\"):\n",
    "    for i in features_rbl:\n",
    "        selected_features.append(i)\n",
    "    for i in features_texture:\n",
    "        selected_features.append(i)\n",
    "if(FEATURE_SET==\"rBL+VOL+RAD\"):\n",
    "    for i in features_rbl:\n",
    "        selected_features.append(i)\n",
    "    for i in features_vol:\n",
    "        selected_features.append(i)\n",
    "    for i in features_texture:\n",
    "        selected_features.append(i)\n"
   ]
  },
  {
   "cell_type": "code",
   "execution_count": null,
   "id": "e6cf0f71",
   "metadata": {},
   "outputs": [],
   "source": [
    "df_ges_new=df_ges.filter(list(OrderedDict.fromkeys(selected_features)))\n",
    "\n",
    "dummy_features=list(df_ges_new.columns[df_ges_new.columns.isin([\"PTETHCAT\",\"PTRACCAT\",\"PTMARRY\",\"APOE4\",\"MagStrength\",\"PTGENDER\"])])\n",
    "\n",
    "df_ges_new=pd.get_dummies(df_ges_new, columns=dummy_features)\n",
    "\n",
    "df_ges_new=df_ges_new.dropna(thresh=int(len(df_ges)*0.5), axis=1)\n"
   ]
  },
  {
   "cell_type": "code",
   "execution_count": null,
   "id": "3afb52ae",
   "metadata": {},
   "outputs": [],
   "source": []
  },
  {
   "cell_type": "code",
   "execution_count": null,
   "id": "c7c00117",
   "metadata": {},
   "outputs": [],
   "source": []
  },
  {
   "cell_type": "code",
   "execution_count": null,
   "id": "54e97094",
   "metadata": {},
   "outputs": [],
   "source": [
    "df_training_samples=pd.read_csv(TRAINING_SET)\n",
    "df_test_samples=pd.read_csv(TEST_SET)"
   ]
  },
  {
   "cell_type": "code",
   "execution_count": null,
   "id": "94910ed3",
   "metadata": {},
   "outputs": [],
   "source": [
    "df_training_samples=df_training_samples.astype({\"IMAGEUID\": \"str\"})\n",
    "df_test_samples=df_test_samples.astype({\"IMAGEUID\": \"str\"})\n",
    "df_ges_new=df_ges_new.astype({\"IMAGEUID\": \"str\"})\n"
   ]
  },
  {
   "cell_type": "code",
   "execution_count": null,
   "id": "8fe07903",
   "metadata": {},
   "outputs": [],
   "source": []
  },
  {
   "cell_type": "code",
   "execution_count": null,
   "id": "8023c576",
   "metadata": {},
   "outputs": [],
   "source": [
    "train = df_ges_new.set_index(\"IMAGEUID\").loc[list(df_training_samples.IMAGEUID)].reset_index()\n",
    "test = df_ges_new.set_index(\"IMAGEUID\").loc[list(df_test_samples.IMAGEUID)].reset_index()"
   ]
  },
  {
   "cell_type": "code",
   "execution_count": null,
   "id": "bc3a97d9",
   "metadata": {},
   "outputs": [],
   "source": []
  },
  {
   "cell_type": "code",
   "execution_count": null,
   "id": "b421e6de",
   "metadata": {},
   "outputs": [],
   "source": []
  },
  {
   "cell_type": "code",
   "execution_count": null,
   "id": "0009f991",
   "metadata": {},
   "outputs": [],
   "source": []
  },
  {
   "cell_type": "code",
   "execution_count": null,
   "id": "4d8b9e6f",
   "metadata": {},
   "outputs": [],
   "source": [
    "train.to_csv(SAVEDIR+DATASET_SEL+\"_\"+FEATURE_SET+\"_train.csv\",index=False)\n",
    "test.to_csv(SAVEDIR+DATASET_SEL+\"_\"+FEATURE_SET+\"_test.csv\",index=False)"
   ]
  },
  {
   "cell_type": "code",
   "execution_count": null,
   "id": "4d75aaa5",
   "metadata": {},
   "outputs": [],
   "source": [
    "test"
   ]
  }
 ],
 "metadata": {
  "kernelspec": {
   "display_name": "Python 3 (ipykernel)",
   "language": "python",
   "name": "python3"
  },
  "language_info": {
   "codemirror_mode": {
    "name": "ipython",
    "version": 3
   },
   "file_extension": ".py",
   "mimetype": "text/x-python",
   "name": "python",
   "nbconvert_exporter": "python",
   "pygments_lexer": "ipython3",
   "version": "3.8.10"
  }
 },
 "nbformat": 4,
 "nbformat_minor": 5
}
