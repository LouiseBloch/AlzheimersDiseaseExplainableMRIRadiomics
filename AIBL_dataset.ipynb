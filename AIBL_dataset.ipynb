{
 "cells": [
  {
   "cell_type": "code",
   "execution_count": null,
   "id": "ee5b51b2",
   "metadata": {},
   "outputs": [],
   "source": []
  },
  {
   "cell_type": "code",
   "execution_count": null,
   "id": "d0331da5",
   "metadata": {},
   "outputs": [],
   "source": [
    "#versions: pandas==2.0.3, numpy==1.24.4"
   ]
  },
  {
   "cell_type": "code",
   "execution_count": null,
   "id": "34b5e639",
   "metadata": {},
   "outputs": [],
   "source": [
    "import pandas as pd\n",
    "import numpy as np\n",
    "from functools import reduce\n",
    "from pandas.api.types import CategoricalDtype\n"
   ]
  },
  {
   "cell_type": "code",
   "execution_count": null,
   "id": "3c3e0e75",
   "metadata": {},
   "outputs": [],
   "source": [
    "AIBL_DATASET_DIR=\"./data/aibl_19Sep2019/Data_extract_3.3.0/\"\n",
    "AIBL_MRI_ADDITIONAL_DATA=\"./data/AIBL/AIBL_MRT_13112020.csv\"#extracted from LONI, contains \"Subject ID\",\"Sex\",\"Research Group\",\"Visit\",\"Archive Date\",\"Study Date\",\"Age\",\"Description\",\"Type\",\"Imaging Protocol\",\"Image ID\" for all AIBL-scans\n",
    "AIBL_MRI_FASTSURFER_DIR=\"./data/AIBL/output_fastsurfer/\"\n",
    "MAPPING_FILE=\"./data/texture_mapping.csv\"\n",
    "AIBL_TEXTURE_DATA=\"./data/AIBL/summary_scan_level.csv\"\n",
    "FREESURFER_LUT_DIR=\"./data/Freesurfer-LUT_new.txt\"\n",
    "SAVE_DIR_AIBL_DATASET=\"./data/AIBL_all.csv\"\n",
    "FILE_AIBL_SELECTION=\"./data/AIBL_subjects_scans.csv\""
   ]
  },
  {
   "cell_type": "code",
   "execution_count": null,
   "id": "f2226200",
   "metadata": {},
   "outputs": [],
   "source": [
    "def getAIBLDiag():\n",
    "    aiblDataDX=pd.read_csv(AIBL_DATASET_DIR+\"aibl_pdxconv_01-Jun-2018.csv\")\n",
    "    aiblDataDX=aiblDataDX.filter(items=[\"RID\",\"VISCODE\",\"DXCURREN\"])\n",
    "    aiblDataDX=aiblDataDX[aiblDataDX.DXCURREN!=-4]\n",
    "    aiblDataDX=aiblDataDX[aiblDataDX.DXCURREN!=7]\n",
    "    diag=aiblDataDX.DXCURREN.copy()\n",
    "    is_CN=(aiblDataDX.DXCURREN==1)\n",
    "    diag[is_CN]=\"CN\"\n",
    "    is_MCI=(aiblDataDX.DXCURREN==2)\n",
    "    diag[is_MCI]=\"MCI\"\n",
    "    is_Dementia=(aiblDataDX.DXCURREN==3)\n",
    "    diag[is_Dementia]=\"Dementia\"\n",
    "    aiblDataDX[\"DXCURREN\"]=diag\n",
    "    aiblDataDX=aiblDataDX.rename(columns={\"RID\":\"PTID\",\"DXCURREN\":\"DX\"})\n",
    "    return(aiblDataDX)\n",
    "\n",
    "def getAIBLAPOE():\n",
    "    aiblDataApoE=pd.read_csv(AIBL_DATASET_DIR+\"aibl_apoeres_01-Jun-2018.csv\")\n",
    "    aiblDataApoE=aiblDataApoE[aiblDataApoE.APGEN1!=-4]\n",
    "    aiblDataApoE=aiblDataApoE[aiblDataApoE.APGEN2!=-4]\n",
    "    apoE=aiblDataApoE.APGEN1.copy()\n",
    "    is_2_2=((aiblDataApoE.APGEN1==2)&(aiblDataApoE.APGEN2==2))\n",
    "    apoE[is_2_2]=0\n",
    "    is_2_3=((aiblDataApoE.APGEN1==2)&(aiblDataApoE.APGEN2==3))\n",
    "    apoE[is_2_3]=0\n",
    "    is_2_4=((aiblDataApoE.APGEN1==2)&(aiblDataApoE.APGEN2==4))\n",
    "    apoE[is_2_4]=1\n",
    "    is_3_2=((aiblDataApoE.APGEN1==3)&(aiblDataApoE.APGEN2==2))\n",
    "    apoE[is_3_2]=0\n",
    "    is_3_3=((aiblDataApoE.APGEN1==3)&(aiblDataApoE.APGEN2==3))\n",
    "    apoE[is_3_3]=0\n",
    "    is_3_4=((aiblDataApoE.APGEN1==3)&(aiblDataApoE.APGEN2==4))\n",
    "    apoE[is_3_4]=1\n",
    "    is_4_2=((aiblDataApoE.APGEN1==4)&(aiblDataApoE.APGEN2==2))\n",
    "    apoE[is_4_2]=1\n",
    "    is_4_3=((aiblDataApoE.APGEN1==4)&(aiblDataApoE.APGEN2==3))\n",
    "    apoE[is_4_3]=1\n",
    "    is_4_4=((aiblDataApoE.APGEN1==4)&(aiblDataApoE.APGEN2==4))\n",
    "    apoE[is_4_4]=2\n",
    "    aiblDataApoE[\"APOE4\"]=apoE\n",
    "    aiblDataApoE=aiblDataApoE.filter(items=[\"RID\",\"VISCODE\",\"APOE4\"])\n",
    "    aiblDataApoE=aiblDataApoE.rename(columns={\"RID\":\"PTID\"})\n",
    "    return(aiblDataApoE)\n",
    "\n",
    "def getAIBLCogTest():\n",
    "    aiblDataCDR=pd.read_csv(AIBL_DATASET_DIR+\"aibl_cdr_01-Jun-2018.csv\")\n",
    "    aiblDataCDR=aiblDataCDR[aiblDataCDR.CDGLOBAL!=-4]\n",
    "    aiblDataCDR=aiblDataCDR.filter(items=[\"RID\",\"VISCODE\",\"CDGLOBAL\"])\n",
    "    aiblDataCDR=aiblDataCDR.rename(columns={\"RID\":\"PTID\"})\n",
    "    aiblDataMMSE=pd.read_csv(AIBL_DATASET_DIR+\"aibl_mmse_01-Jun-2018.csv\")\n",
    "    aiblDataMMSE=aiblDataMMSE[aiblDataMMSE.MMSCORE!=-4]\n",
    "    aiblDataMMSE=aiblDataMMSE.filter(items=[\"RID\",\"VISCODE\",\"MMSCORE\"])\n",
    "    aiblDataMMSE=aiblDataMMSE.rename(columns={\"RID\":\"PTID\"})\n",
    "    aiblDataLOG=pd.read_csv(AIBL_DATASET_DIR+\"aibl_neurobat_01-Jun-2018.csv\")\n",
    "    aiblDataLOG=aiblDataLOG[aiblDataLOG.LIMMTOTAL!=-4]\n",
    "    aiblDataLOG=aiblDataLOG[aiblDataLOG.LDELTOTAL!=-4]\n",
    "    aiblDataLOG=aiblDataLOG.filter(items=[\"RID\",\"VISCODE\",\"LIMMTOTAL\",\"LDELTOTAL\"])\n",
    "    aiblDataLOG=aiblDataLOG.rename(columns={\"RID\":\"PTID\"})\n",
    "    data_frames = [aiblDataCDR, aiblDataMMSE, aiblDataLOG]\n",
    "    ges = reduce(lambda  left,right: pd.merge(left,right,left_on=[\"PTID\",\"VISCODE\"],right_on=[\"PTID\",\"VISCODE\"],how=\"outer\"), data_frames)\n",
    "    return(ges)\n",
    "\n",
    "def getAIBLDemographyData():\n",
    "    aiblDataDemo=pd.read_csv(AIBL_DATASET_DIR+\"aibl_ptdemog_01-Jun-2018.csv\")\n",
    "    aiblDataDemo.PTGENDER.min()\n",
    "    gender=aiblDataDemo.PTGENDER.copy()\n",
    "    gender[(aiblDataDemo.PTGENDER==1)]=\"Male\"\n",
    "    gender[(aiblDataDemo.PTGENDER==2)]=\"Female\"\n",
    "    aiblDataDemo.PTGENDER=gender.copy()\n",
    "    year=aiblDataDemo.PTDOB.astype(str)\n",
    "    year = year.str[1:]\n",
    "    year=\"01/07/\"+year\n",
    "    aiblDataDemo[\"GDAT\"]=year\n",
    "    timePointBL=pd.read_csv(AIBL_DATASET_DIR+\"aibl_mmse_01-Jun-2018.csv\")\n",
    "    tp=timePointBL.EXAMDATE.copy()\n",
    "    tp[(timePointBL.EXAMDATE==\"02/27/3013\")]=\"02/27/2013\"\n",
    "    timePointBL.EXAMDATE=tp\n",
    "    dataset=pd.merge(timePointBL,aiblDataDemo,left_on=[\"RID\",\"VISCODE\"],right_on=[\"RID\",\"VISCODE\"],how=\"inner\")\n",
    "    dataset[\"GDAT\"]= pd.to_datetime(dataset[\"GDAT\"],format=\"%d/%m/%Y\")\n",
    "    dataset=dataset[dataset.EXAMDATE!=\"-4\"]\n",
    "    dataset[\"EXAMDATE\"]= pd.to_datetime(dataset[\"EXAMDATE\"].astype(str),format=\"%m/%d/%Y\")\n",
    "    diff = (dataset[\"EXAMDATE\"]-dataset[\"GDAT\"])/np.timedelta64(1,\"Y\")\n",
    "    dataset[\"AGE\"]=diff.round(2)\n",
    "    dataset=dataset.filter(items=[\"RID\",\"VISCODE\",\"AGE\"])\n",
    "    aiblDataDemo=pd.merge(aiblDataDemo,dataset,left_on=[\"RID\",\"VISCODE\"],right_on=[\"RID\",\"VISCODE\"],how=\"outer\")\n",
    "    aiblDataDemo=aiblDataDemo.filter(items=[\"RID\",\"VISCODE\",\"PTGENDER\",\"AGE\"])\n",
    "    aiblDataDemo=aiblDataDemo.rename(columns={\"RID\":\"PTID\"})\n",
    "    return(aiblDataDemo)\n",
    "\n",
    "def getMRIData():\n",
    "    MRI=pd.read_csv(AIBL_MRI_ADDITIONAL_DATA)\n",
    "    MRI=MRI[MRI[\"Research Group\"]==\"Patient\"]\n",
    "    MRI=MRI[MRI[\"Description\"].isin([\"MPRAGE ADNI confirmed\",\"MPRAGE SAG ISO p2\",\"MPRAGE SAG ISO p2_ND\",\"MPRAGE ADNI confirmed REPEAT\",\"MPRAGESAGISOp2ND\",\"MPRAGE\",\"MPRAGE ADNI conf REPEAT\",\"MPRAGE ADNI confirmed RPT\",\"MPRAGE ADNI REPEAT\",\"MPRAGE ADNI confirmed REPEATX2\",\"MPRAGE ADNI confirmed repeat\",\"t1_mpr_ss_SAGITTAL_TRIPLE_MODE\",])]\n",
    "    MRI=MRI[MRI[\"Imaging Protocol\"]!=\"Acquisition Plane=SAGITTAL;Mfg Model=Avanto;Slice Thickness=1.0;Matrix Z=160.0;Acquisition Type=3D;Field Strength=1.5;Manufacturer=SIEMENS;Weighting=PD\"]\n",
    "    viscode=MRI.Visit.copy()\n",
    "    viscode[(MRI.Visit==\"Baseline\")]=\"bl\"\n",
    "    viscode[(MRI.Visit==\"18 Month follow-up\")]=\"m18\"\n",
    "    viscode[(MRI.Visit==\"36 Month follow-up\")]=\"m36\"\n",
    "    viscode[(MRI.Visit==\"54 Month follow-up\")]=\"m54\"\n",
    "    viscode[(MRI.Visit==\"72 Month follow-up\")]=\"m72\"\n",
    "    MRI[\"VISCODE\"]=viscode\n",
    "    a=MRI[\"Imaging Protocol\"].str.split(\";\",expand=True)\n",
    "    a.columns=[\"AcquisitionPlane\",\"MfgModel\",\"SliceThickness\",\"MatrixZ\",\"AcquisitionType\",\"MagStrength\",\"Manufacturer\", \"Weighting\"]\n",
    "    a[\"AcquisitionPlane\"] = a[\"AcquisitionPlane\"].str[18:]\n",
    "    a[\"MfgModel\"] = a[\"MfgModel\"].str[10:]\n",
    "    a[\"SliceThickness\"] = a[\"SliceThickness\"].str[16:]\n",
    "    a[\"MatrixZ\"] = a[\"MatrixZ\"].str[9:]\n",
    "    a[\"AcquisitionType\"] = a[\"AcquisitionType\"].str[17:]\n",
    "    a[\"MagStrength\"] = a[\"MagStrength\"].str[15:]\n",
    "    a[\"Manufacturer\"] = a[\"Manufacturer\"].str[13:]\n",
    "    a[\"Weighting\"] = a[\"Weighting\"].str[10:]\n",
    "    MRI = pd.concat([MRI.reset_index(drop=True), a.reset_index(drop=True)], axis=1)\n",
    "    MRI=MRI.filter(items=[\"Subject ID\",\"Image ID\",\"VISCODE\",\"SliceThickness\",\"MagStrength\",\"MfgModel\",\"Manufacturer\",\"Description\"])\n",
    "    MRI=MRI.rename(columns={\"Subject ID\":\"PTID\",\"Image ID\":\"IMAGEUID\"})\n",
    "    \n",
    "    return(MRI)\n",
    "\n",
    "def getAIBLDataset():\n",
    "    AIBLDemo=getAIBLDemographyData()\n",
    "    AIBLCogTest=getAIBLCogTest()\n",
    "    AIBLApoE=getAIBLAPOE()\n",
    "    AIBLDiag=getAIBLDiag()\n",
    "    MRI=getMRIData()\n",
    "    data_frames = [AIBLDemo, AIBLApoE]\n",
    "    gesBL = reduce(lambda  left,right: pd.merge(left,right,left_on=[\"PTID\",\"VISCODE\"],right_on=[\"PTID\",\"VISCODE\"],how=\"outer\"), data_frames)\n",
    "    data_frames = [AIBLCogTest, AIBLDiag,MRI]\n",
    "    gesVisits = reduce(lambda  left,right: pd.merge(left,right,left_on=[\"PTID\",\"VISCODE\"],right_on=[\"PTID\",\"VISCODE\"],how=\"outer\"), data_frames)\n",
    "    gesBL=gesBL.drop([\"VISCODE\"], axis=1)\n",
    "    data_frames = [gesVisits, gesBL]\n",
    "    ges = reduce(lambda  left,right: pd.merge(left,right,left_on=[\"PTID\"],right_on=[\"PTID\"],how=\"outer\"), data_frames)\n",
    "    visitCatsAIBL=[\"bl\",\"m18\",\"m36\",\"m54\",\"m72\"]\n",
    "    typeCatAIBL=pd.CategoricalDtype(categories=visitCatsAIBL,ordered=True)\n",
    "    ges.loc[:,\"VISCODE\"]=ges[\"VISCODE\"].astype(typeCatAIBL)\n",
    "    ges=ges.sort_values(by=\"VISCODE\")\n",
    "    return(ges)"
   ]
  },
  {
   "cell_type": "code",
   "execution_count": null,
   "id": "e45814e5",
   "metadata": {},
   "outputs": [],
   "source": [
    "data_aseg=pd.read_table(AIBL_MRI_FASTSURFER_DIR+\"aseg_stats.txt\")\n",
    "data_wmparc=pd.read_table(AIBL_MRI_FASTSURFER_DIR+\"wmparc_stats.txt\")\n",
    "data_lhDKT=pd.read_table(AIBL_MRI_FASTSURFER_DIR+\"lh.aparc.DKTatlas.mapped.volume.txt\")\n",
    "data_rhDKT=pd.read_table(AIBL_MRI_FASTSURFER_DIR+\"rh.aparc.DKTatlas.mapped.volume.txt\")\n",
    "\n",
    "data_lhDKT=data_lhDKT.rename({\"lh.aparc.DKTatlas.mapped.volume\":\"filename\"},axis=1)\n",
    "data_rhDKT=data_rhDKT.rename({\"rh.aparc.DKTatlas.mapped.volume\":\"filename\"},axis=1)\n",
    "data_aseg=data_aseg.rename({\"Measure:volume\":\"filename\"},axis=1)\n",
    "data_wmparc=data_wmparc.rename({\"Measure:volume\":\"filename\"},axis=1)\n",
    "\n",
    "df=pd.merge(data_lhDKT,data_rhDKT,on=\"filename\",suffixes=(\"\", \"_y\"))\n",
    "\n",
    "df=pd.merge(df,data_wmparc,on=\"filename\",suffixes=(\"\", \"_y\"))\n",
    "df=pd.merge(df,data_aseg,on=\"filename\",suffixes=(\"\", \"_y\"))\n",
    "\n",
    "\n",
    "cols = [c for c in df.columns if not c.endswith(\"_y\")]\n",
    "df=df[cols]\n"
   ]
  },
  {
   "cell_type": "code",
   "execution_count": null,
   "id": "9126c246",
   "metadata": {},
   "outputs": [],
   "source": [
    "df[\"PTID\"]=df.filename.str.split(\"_\").str[3]\n",
    "df[\"IMAGEUID\"]=df.filename.str.split(\"_I\").str[-1].str[:-1]\n",
    "\n",
    "df=df.astype({\"IMAGEUID\": \"str\"})\n",
    "df.iloc[:,1:191]=df.iloc[:,1:191].div(df.EstimatedTotalIntraCranialVol, axis=0)"
   ]
  },
  {
   "cell_type": "code",
   "execution_count": null,
   "id": "6abbebf8",
   "metadata": {},
   "outputs": [],
   "source": []
  },
  {
   "cell_type": "code",
   "execution_count": null,
   "id": "062c9fff",
   "metadata": {},
   "outputs": [],
   "source": [
    "aibl=getAIBLDataset()\n",
    "aibl=aibl.round({\"AGE\":1})\n"
   ]
  },
  {
   "cell_type": "code",
   "execution_count": null,
   "id": "7ccf6716",
   "metadata": {},
   "outputs": [],
   "source": [
    "aiblDataDemo=pd.read_csv(AIBL_DATASET_DIR+\"aibl_ptdemog_01-Jun-2018.csv\")\n",
    "aiblDataDemo.PTGENDER.min()\n",
    "gender=aiblDataDemo.PTGENDER.copy()\n",
    "gender[(aiblDataDemo.PTGENDER==1)]=\"Male\"\n",
    "gender[(aiblDataDemo.PTGENDER==2)]=\"Female\"\n",
    "aiblDataDemo.PTGENDER=gender.copy()\n",
    "year=aiblDataDemo.PTDOB.astype(str)\n",
    "year = year.str[1:]\n",
    "year=\"01/07/\"+year\n",
    "aiblDataDemo[\"GDAT\"]=year\n",
    "timePointBL=pd.read_csv(AIBL_DATASET_DIR+\"aibl_mmse_01-Jun-2018.csv\")\n",
    "tp=timePointBL.EXAMDATE.copy()\n",
    "tp[(timePointBL.EXAMDATE==\"02/27/3013\")]=\"02/27/2013\"\n",
    "timePointBL.EXAMDATE=tp\n",
    "dataset=pd.merge(timePointBL,aiblDataDemo,left_on=[\"RID\"],right_on=[\"RID\"],how=\"inner\",suffixes=[\"\",\"_y\"])\n",
    "dataset[\"GDAT\"]= pd.to_datetime(dataset[\"GDAT\"],format=\"%d/%m/%Y\")\n",
    "dataset=dataset[dataset.EXAMDATE!=\"-4\"]\n",
    "dataset[\"EXAMDATE\"]= pd.to_datetime(dataset[\"EXAMDATE\"].astype(str),format=\"%m/%d/%Y\")\n",
    "diff = (dataset[\"EXAMDATE\"]-dataset[\"GDAT\"])/np.timedelta64(1,\"Y\")\n",
    "dataset[\"AGE\"]=diff.round(2)\n",
    "dataset=dataset.filter(items=[\"RID\",\"VISCODE\",\"AGE\"])\n",
    "aiblDataDemo=pd.merge(aiblDataDemo,dataset,left_on=[\"RID\",\"VISCODE\"],right_on=[\"RID\",\"VISCODE\"],how=\"outer\")\n",
    "aiblDataDemo=aiblDataDemo.filter(items=[\"RID\",\"VISCODE\",\"AGE\"])\n",
    "aibl_demog=aiblDataDemo.rename(columns={\"RID\":\"PTID\"})"
   ]
  },
  {
   "cell_type": "code",
   "execution_count": null,
   "id": "8daa4001",
   "metadata": {},
   "outputs": [],
   "source": [
    "aibl=aibl.drop([\"AGE\"],axis=1)"
   ]
  },
  {
   "cell_type": "code",
   "execution_count": null,
   "id": "02e2679e",
   "metadata": {},
   "outputs": [],
   "source": [
    "aibl=pd.merge(aibl,aibl_demog,left_on=[\"PTID\",\"VISCODE\"],right_on=[\"PTID\",\"VISCODE\"],how=\"inner\")"
   ]
  },
  {
   "cell_type": "code",
   "execution_count": null,
   "id": "93e1696e",
   "metadata": {},
   "outputs": [],
   "source": [
    "aibl_DXbl=pd.DataFrame(columns=[\"PTID\",\"DX_bl\"])\n",
    "for PTID in aibl.PTID.unique():\n",
    "    aibl_PTID=aibl[aibl.PTID==PTID]\n",
    "    aibl_PTID=aibl_PTID.sort_values(\"AGE\")\n",
    "    DXBL=aibl_PTID.iloc[0][\"DX\"]\n",
    "    aibl_DXbl=pd.concat([aibl_DXbl,pd.DataFrame({\"PTID\":[PTID],\"DX_bl\":[DXBL]})])"
   ]
  },
  {
   "cell_type": "code",
   "execution_count": null,
   "id": "965b8a94",
   "metadata": {},
   "outputs": [],
   "source": [
    "aibl=pd.merge(aibl,aibl_DXbl,left_on=[\"PTID\"],right_on=[\"PTID\"],how=\"inner\")"
   ]
  },
  {
   "cell_type": "code",
   "execution_count": null,
   "id": "ba2c9200",
   "metadata": {},
   "outputs": [],
   "source": [
    "aibl=aibl[aibl.DX_bl.isin([\"CN\",\"MCI\"])]"
   ]
  },
  {
   "cell_type": "code",
   "execution_count": null,
   "id": "a5b50c15",
   "metadata": {},
   "outputs": [],
   "source": [
    "aibl=aibl[~aibl.DX.isna()]"
   ]
  },
  {
   "cell_type": "code",
   "execution_count": null,
   "id": "4b971ce2",
   "metadata": {},
   "outputs": [],
   "source": [
    "status=\"\"\n",
    "time=0.0"
   ]
  },
  {
   "cell_type": "code",
   "execution_count": null,
   "id": "e603f592",
   "metadata": {},
   "outputs": [],
   "source": [
    "\n",
    "cat_type = CategoricalDtype(categories=[\"CN\", \"MCI\", \"Dementia\"], ordered=True)\n",
    "\n",
    "aibl[\"DX\"] = aibl[\"DX\"].astype(cat_type)"
   ]
  },
  {
   "cell_type": "code",
   "execution_count": null,
   "id": "e3427fcc",
   "metadata": {},
   "outputs": [],
   "source": [
    "df_tte=pd.DataFrame(columns=[\"PTID\",\"Status\",\"Time\",\"Ref_age\"])\n",
    "for PTID in aibl.PTID.unique():\n",
    "    df_PTID=aibl[aibl.PTID==PTID]\n",
    "    df_PTID=df_PTID.sort_values(\"AGE\")\n",
    "    status=\"\"\n",
    "    time=0.0\n",
    "    if len(df_PTID.DX.unique())==1:\n",
    "        if (df_PTID.DX.unique()[0]==\"MCI\"):\n",
    "            status=\"sMCI\"\n",
    "            time=df_PTID.AGE.max()-df_PTID.AGE.min()\n",
    "            ref_age=df_PTID.AGE.min()\n",
    "        else:\n",
    "            if (df_PTID.DX.unique()[0]==\"CN\"):\n",
    "                status=\"sCN\"\n",
    "                time=df_PTID.AGE.max()-df_PTID.AGE.min()\n",
    "                ref_age=df_PTID.AGE.min()\n",
    "    else:\n",
    "        if \"Dementia\" in df_PTID.DX.tolist():\n",
    "            if (all((df_PTID.sort_values(\"DX\").reset_index().AGE)==(df_PTID.reset_index().AGE))):\n",
    "                if df_PTID.iloc[0].DX==\"MCI\":\n",
    "                    status=\"pMCI\"\n",
    "                else:\n",
    "                    if df_PTID.iloc[0].DX==\"CN\":\n",
    "                        status=\"pCN\"\n",
    "                df_PTID_AD=df_PTID[df_PTID.DX==\"Dementia\"]\n",
    "                time=df_PTID_AD.AGE.min() - df_PTID.AGE.min()\n",
    "                ref_age=df_PTID.AGE.min()\n",
    "            else:\n",
    "                if df_PTID.iloc[0].DX==\"MCI\":\n",
    "                    df_PTID_AD=df_PTID[df_PTID.DX==\"Dementia\"]\n",
    "                    df_PTID_CN=df_PTID[df_PTID.DX==\"CN\"]\n",
    "                    df_PTID_MCI=df_PTID[df_PTID.DX==\"MCI\"]\n",
    "                    value_AD=df_PTID_AD.AGE.min()\n",
    "                    value_MCI=df_PTID_MCI.AGE.max()\n",
    "                    if(df_PTID_CN.shape[0]==0):\n",
    "                        value_CN=0\n",
    "                    else:\n",
    "                        value_CN=df_PTID_CN.AGE.max()\n",
    "                    if(value_CN<value_AD and value_MCI<value_AD):\n",
    "                        status=\"uMCIADClear\"\n",
    "                    else:\n",
    "                        status=\"uMCIADUnclear\"\n",
    "                else:\n",
    "                    if df_PTID.iloc[0].DX==\"CN\":\n",
    "                        df_PTID_AD=df_PTID[df_PTID.DX==\"Dementia\"]\n",
    "                        df_PTID_CN=df_PTID[df_PTID.DX==\"CN\"]\n",
    "                        df_PTID_MCI=df_PTID[df_PTID.DX==\"MCI\"]\n",
    "                        value_AD=df_PTID_AD.AGE.min()\n",
    "                        value_CN=df_PTID_CN.AGE.max()\n",
    "                        if(df_PTID_MCI.shape[0]==0):\n",
    "                            value_MCI=0\n",
    "                        else:\n",
    "                            value_MCI=df_PTID_MCI.AGE.max()\n",
    "                        if(value_CN<value_AD and value_MCI<value_AD):\n",
    "                            status=\"uCNADClear\"\n",
    "                        else:\n",
    "                            status=\"uCNADUnclear\"\n",
    "                df_PTID_AD=df_PTID[df_PTID.DX==\"Dementia\"]\n",
    "                time=df_PTID_AD.AGE.min()-df_PTID.AGE.min()\n",
    "                ref_age=df_PTID.AGE.min()\n",
    "        else:\n",
    "            if (all((df_PTID.sort_values(\"DX\").reset_index().AGE)==(df_PTID.reset_index().AGE))):\n",
    "                if df_PTID.iloc[0].DX==\"CN\":\n",
    "                    status=\"CNtoMCI\"\n",
    "                    time=df_PTID.AGE.max()-df_PTID.AGE.min()\n",
    "                    ref_age=df_PTID.AGE.min()\n",
    "            else:\n",
    "                if df_PTID.iloc[0].DX==\"MCI\":\n",
    "                    status=\"uMCINoAD\"\n",
    "                else:\n",
    "                    if df_PTID.iloc[0].DX==\"CN\":\n",
    "                        status=\"uCNNoAD\"\n",
    "                time=df_PTID.AGE.max()-df_PTID.AGE.min()\n",
    "                ref_age=df_PTID.AGE.min()\n",
    "    if not ((len(df_PTID.DX.unique())==1) and (df_PTID.iloc[0].DX==\"Dementia\")):\n",
    "        if not((~df_PTID.IMAGEUID.isna()).sum() ==0):\n",
    "            df_tte=pd.concat([df_tte,pd.DataFrame({\"PTID\":[PTID],\"Status\":[status], \"Time\": [time],\"Ref_age\":[ref_age]})],ignore_index=True)"
   ]
  },
  {
   "cell_type": "code",
   "execution_count": null,
   "id": "00d979ad",
   "metadata": {},
   "outputs": [],
   "source": [
    "df_tte=df_tte[df_tte.Time>0]"
   ]
  },
  {
   "cell_type": "code",
   "execution_count": null,
   "id": "ec792693",
   "metadata": {},
   "outputs": [],
   "source": [
    "df_tte=df_tte[df_tte.Status.isin([\"sCN\",\"sMCI\",\"pMCI\",\"uMCINoAD\",\"uCNNoAD\",\"uMCIADClear\",\"uCNADClear\",\"CNtoMCI\",\"pCN\"])]"
   ]
  },
  {
   "cell_type": "code",
   "execution_count": null,
   "id": "05a6459a",
   "metadata": {},
   "outputs": [],
   "source": [
    "aibl=pd.merge(aibl,df_tte,on=\"PTID\")"
   ]
  },
  {
   "cell_type": "code",
   "execution_count": null,
   "id": "f6ac87cb",
   "metadata": {},
   "outputs": [],
   "source": [
    "aiblSelection=pd.read_csv(FILE_AIBL_SELECTION)\n",
    "aiblSelection=aiblSelection.astype({\"IMAGEUID\":\"str\"})"
   ]
  },
  {
   "cell_type": "code",
   "execution_count": null,
   "id": "b3638225",
   "metadata": {},
   "outputs": [],
   "source": [
    "aibl=aibl[~aibl.IMAGEUID.isna()]"
   ]
  },
  {
   "cell_type": "code",
   "execution_count": null,
   "id": "cfabdc70",
   "metadata": {},
   "outputs": [],
   "source": [
    "aibl=aibl.astype({\"IMAGEUID\":\"int\"})\n",
    "aibl=aibl.astype({\"IMAGEUID\":\"str\"})\n"
   ]
  },
  {
   "cell_type": "code",
   "execution_count": null,
   "id": "f6438f24",
   "metadata": {},
   "outputs": [],
   "source": [
    "aibl=aibl[aibl.IMAGEUID.isin(aiblSelection.IMAGEUID)]"
   ]
  },
  {
   "cell_type": "code",
   "execution_count": null,
   "id": "2875f78b",
   "metadata": {},
   "outputs": [],
   "source": []
  },
  {
   "cell_type": "code",
   "execution_count": null,
   "id": "36ff1ec9",
   "metadata": {},
   "outputs": [],
   "source": []
  },
  {
   "cell_type": "code",
   "execution_count": null,
   "id": "ba5cb94a",
   "metadata": {},
   "outputs": [],
   "source": [
    "df_ges=aibl"
   ]
  },
  {
   "cell_type": "code",
   "execution_count": null,
   "id": "3bf61b55",
   "metadata": {},
   "outputs": [],
   "source": [
    "df_ges=pd.merge(df_ges,df,on=\"IMAGEUID\",suffixes=[\"\",\"_y\"])\n",
    "cols = [c for c in df_ges.columns if not c.endswith(\"_y\")]\n",
    "df_ges=df_ges[cols]\n"
   ]
  },
  {
   "cell_type": "code",
   "execution_count": null,
   "id": "21f2d2a3",
   "metadata": {},
   "outputs": [],
   "source": [
    "volume_feature=pd.read_csv(MAPPING_FILE)\n"
   ]
  },
  {
   "cell_type": "code",
   "execution_count": null,
   "id": "23e39505",
   "metadata": {},
   "outputs": [],
   "source": []
  },
  {
   "cell_type": "code",
   "execution_count": null,
   "id": "2de5c0ce",
   "metadata": {},
   "outputs": [],
   "source": [
    "df_ges.Time=df_ges.Time-(df_ges.AGE-df_ges.Ref_age)"
   ]
  },
  {
   "cell_type": "code",
   "execution_count": null,
   "id": "acad0e53",
   "metadata": {},
   "outputs": [],
   "source": []
  },
  {
   "cell_type": "code",
   "execution_count": null,
   "id": "9506bd81",
   "metadata": {},
   "outputs": [],
   "source": [
    "df_ges=df_ges.sort_values(\"AGE\")"
   ]
  },
  {
   "cell_type": "code",
   "execution_count": null,
   "id": "a423fe36",
   "metadata": {},
   "outputs": [],
   "source": [
    "df_ges=df_ges.set_index([\"PTID\",\"IMAGEUID\"])"
   ]
  },
  {
   "cell_type": "code",
   "execution_count": null,
   "id": "c5ac8aca",
   "metadata": {},
   "outputs": [],
   "source": [
    "df_ges_copy=df_ges.copy()\n",
    "df_ges_copy=df_ges_copy.reset_index(drop=True)"
   ]
  },
  {
   "cell_type": "code",
   "execution_count": null,
   "id": "73e7763f",
   "metadata": {},
   "outputs": [],
   "source": []
  },
  {
   "cell_type": "code",
   "execution_count": null,
   "id": "5147d6b6",
   "metadata": {},
   "outputs": [],
   "source": [
    "df_ges"
   ]
  },
  {
   "cell_type": "code",
   "execution_count": null,
   "id": "6240eeef",
   "metadata": {},
   "outputs": [],
   "source": [
    "df_ges=df_ges.filter([\"PTID\",\"PTGENDER\",\"CDGLOBAL\",\"MMSCORE\",\"APOE4\",\"AGE\",\"IMAGEUID\",\"MagStrength\",\"Status\",\"Time\",\"LDELTOTAL\",\"LIMMTOTAL\",\"EstimatedTotalIntraCranialVol\"]+volume_feature.region_volume.tolist(),axis=1)"
   ]
  },
  {
   "cell_type": "code",
   "execution_count": null,
   "id": "d3cec946",
   "metadata": {},
   "outputs": [],
   "source": [
    "df_ges"
   ]
  },
  {
   "cell_type": "code",
   "execution_count": null,
   "id": "4388eff7",
   "metadata": {},
   "outputs": [],
   "source": [
    "texture=pd.read_csv(AIBL_TEXTURE_DATA)"
   ]
  },
  {
   "cell_type": "code",
   "execution_count": null,
   "id": "f5e09dc3",
   "metadata": {},
   "outputs": [],
   "source": []
  },
  {
   "cell_type": "code",
   "execution_count": null,
   "id": "9711aa26",
   "metadata": {},
   "outputs": [],
   "source": [
    "\n",
    "texture[\"PTID\"]=texture.path.str.split(\"/\").str[7].str.split(\"_\").str[3]\n",
    "\n",
    "texture[\"IMAGEUID\"]=texture.path.str.split(\"/\").str[7].str.split(\"_I\").str[-1].str.split(\"/\").str[0]\n",
    "\n",
    "texture=texture.drop([\"path\"],axis=1)\n",
    "\n",
    "texture=texture.astype({\"IMAGEUID\":\"int\"})\n",
    "texture=texture.astype({\"IMAGEUID\":\"str\"})"
   ]
  },
  {
   "cell_type": "code",
   "execution_count": null,
   "id": "7f72d6c1",
   "metadata": {},
   "outputs": [],
   "source": [
    "freeSurfer_LUT=pd.read_table(FREESURFER_LUT_DIR, sep=\";\")\n",
    "df=pd.DataFrame([texture.drop([\"PTID\",\"IMAGEUID\"],axis=1).columns,texture.drop([\"PTID\",\"IMAGEUID\"],axis=1).columns.str.split(\"_\").str[-1],texture.drop([\"PTID\",\"IMAGEUID\"],axis=1).columns.str.rsplit(\"_\", n=1).str.get(0)]).transpose()\n",
    "df.columns=[\"feature_name\",\"region\",\"feature_name_without_region\"]\n",
    "df.region=pd.to_numeric(df.region)\n",
    "dfmerged=pd.merge(df,freeSurfer_LUT,left_on=\"region\",right_on=\"0\", how=\"left\")\n",
    "cnames=dfmerged.feature_name+\"_\"+dfmerged.Unknown\n",
    "cnames=cnames.tolist()\n",
    "cnames.append(\"PTID\")\n",
    "cnames.append(\"IMAGEUID\")\n",
    "texture.columns=cnames"
   ]
  },
  {
   "cell_type": "code",
   "execution_count": null,
   "id": "602657aa",
   "metadata": {},
   "outputs": [],
   "source": [
    "df_ges=pd.merge(df_ges,texture,on=\"IMAGEUID\",how=\"left\",suffixes=[\"\",\"_y\"])\n",
    "cols = [c for c in df_ges.columns if not c.endswith(\"_y\")]\n",
    "df_ges=df_ges[cols]\n",
    "\n",
    "df_ges=df_ges.dropna(thresh=int(len(df_ges)*0.5), axis=1)"
   ]
  },
  {
   "cell_type": "code",
   "execution_count": null,
   "id": "46a8032f",
   "metadata": {},
   "outputs": [],
   "source": [
    "list_Y_train=list()\n",
    "for i, dat in df_ges.iterrows():\n",
    "    statNew=False\n",
    "    if (dat.Status==\"sCN\") or (dat.Status==\"sMCI\") or (dat.Status==\"CNtoMCI\") or (dat.Status==\"uMCINoAD\") or (dat.Status==\"uCNNoAD\"):\n",
    "        statNew=False\n",
    "    else:\n",
    "        statNew=True\n",
    "    list_Y_train.append(statNew)"
   ]
  },
  {
   "cell_type": "code",
   "execution_count": null,
   "id": "1f19be36",
   "metadata": {},
   "outputs": [],
   "source": [
    "df_ges[\"out\"]=list_Y_train"
   ]
  },
  {
   "cell_type": "code",
   "execution_count": null,
   "id": "85fcf5bd",
   "metadata": {},
   "outputs": [],
   "source": [
    "list_Y_train=list()\n",
    "for i, dat in df_ges.iterrows():\n",
    "    statNew=\"CN\"\n",
    "    if (dat.Status==\"sMCI\") or  (dat.Status==\"pMCI\")  or (dat.Status==\"uMCINoAD\") or (dat.Status==\"uMCIADClear\"):\n",
    "        statNew=\"MCI\"\n",
    "    list_Y_train.append(statNew)"
   ]
  },
  {
   "cell_type": "code",
   "execution_count": null,
   "id": "411346d2",
   "metadata": {},
   "outputs": [],
   "source": [
    "df_ges[\"init_diag\"]=list_Y_train"
   ]
  },
  {
   "cell_type": "code",
   "execution_count": null,
   "id": "08465193",
   "metadata": {},
   "outputs": [],
   "source": [
    "df_ges.to_csv(SAVE_DIR_AIBL_DATASET)"
   ]
  },
  {
   "cell_type": "code",
   "execution_count": null,
   "id": "c3795d2c",
   "metadata": {},
   "outputs": [],
   "source": [
    "df_ges"
   ]
  }
 ],
 "metadata": {
  "kernelspec": {
   "display_name": "Python 3 (ipykernel)",
   "language": "python",
   "name": "python3"
  },
  "language_info": {
   "codemirror_mode": {
    "name": "ipython",
    "version": 3
   },
   "file_extension": ".py",
   "mimetype": "text/x-python",
   "name": "python",
   "nbconvert_exporter": "python",
   "pygments_lexer": "ipython3",
   "version": "3.8.10"
  }
 },
 "nbformat": 4,
 "nbformat_minor": 5
}
