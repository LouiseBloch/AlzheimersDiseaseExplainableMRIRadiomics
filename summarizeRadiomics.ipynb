{
 "cells": [
  {
   "cell_type": "code",
   "execution_count": null,
   "id": "e9a01ec1",
   "metadata": {},
   "outputs": [],
   "source": []
  },
  {
   "cell_type": "code",
   "execution_count": null,
   "id": "b7ffe7b6",
   "metadata": {},
   "outputs": [],
   "source": [
    "##packages used: pandas==2.0.3"
   ]
  },
  {
   "cell_type": "code",
   "execution_count": null,
   "id": "19193d33",
   "metadata": {},
   "outputs": [],
   "source": [
    "from glob import glob\n",
    "import pandas as pd\n",
    "dataGes=None"
   ]
  },
  {
   "cell_type": "code",
   "execution_count": null,
   "id": "2f7a55a5",
   "metadata": {},
   "outputs": [],
   "source": [
    "RESULTS_DIR_RADIOMICS=\"./results/ADNI/Radiomics/\"\n",
    "RESULTS_FILE_SUMMARY=\"./radiomics_results/ADNI/summary_scan_level.csv\""
   ]
  },
  {
   "cell_type": "code",
   "execution_count": null,
   "id": "1a84884f",
   "metadata": {},
   "outputs": [],
   "source": [
    "files=RESULTS_DIR+\"*.csv\"\n",
    "for test in glob(files, recursive = False):\n",
    "    data=pd.read_csv(test)\n",
    "    if not isinstance(dataGes, pd.DataFrame):\n",
    "        dataGes=data\n",
    "    else:\n",
    "        dataGes=pd.concat([dataGes,data], ignore_index=True)"
   ]
  },
  {
   "cell_type": "code",
   "execution_count": null,
   "id": "49268ff0",
   "metadata": {},
   "outputs": [],
   "source": [
    "featureNames=[]\n",
    "for region in dataGes.region.unique():\n",
    "    featureNames.append([s + \"_\"+str(region) for s in dataGes.columns[2:]])\n",
    "    "
   ]
  },
  {
   "cell_type": "code",
   "execution_count": null,
   "id": "0a6ab14f",
   "metadata": {},
   "outputs": [],
   "source": [
    "flatten_list = [element for sublist in featureNames for element in sublist]\n"
   ]
  },
  {
   "cell_type": "code",
   "execution_count": null,
   "id": "8828acad",
   "metadata": {},
   "outputs": [],
   "source": [
    "dataGesSubLev=pd.DataFrame(columns=[\"path\"]+flatten_list)"
   ]
  },
  {
   "cell_type": "code",
   "execution_count": null,
   "id": "ce62f26f",
   "metadata": {},
   "outputs": [],
   "source": [
    "for path_processed in dataGes.path.unique():\n",
    "\n",
    "    dataset_filtered=dataGes[dataGes.path==path_processed]\n",
    "\n",
    "    feature_names=[]\n",
    "    feature_values=[]\n",
    "\n",
    "    for row in dataset_filtered.iterrows():\n",
    "        feature_names.append([s + \"_\"+str(row[1][\"region\"]) for s in dataGes.columns[2:]])\n",
    "        feature_values.append(row[1][2:])\n",
    "        feature_names_flatten = [element for sublist in feature_names for element in sublist]\n",
    "        feature_values_flatten = [element for sublist in feature_values for element in sublist]\n",
    "\n",
    "\n",
    "    test=pd.DataFrame([[row[1][\"path\"]]+feature_values_flatten],columns=[\"path\"]+feature_names_flatten)\n",
    "\n",
    "    dataGesSubLev=pd.concat([dataGesSubLev,test], ignore_index=True)"
   ]
  },
  {
   "cell_type": "code",
   "execution_count": null,
   "id": "39a802bc",
   "metadata": {},
   "outputs": [],
   "source": [
    "dataGesSubLev.to_csv(RESULTS_FILE_SUMMARY,index=False)"
   ]
  }
 ],
 "metadata": {
  "kernelspec": {
   "display_name": "Python 3 (ipykernel)",
   "language": "python",
   "name": "python3"
  },
  "language_info": {
   "codemirror_mode": {
    "name": "ipython",
    "version": 3
   },
   "file_extension": ".py",
   "mimetype": "text/x-python",
   "name": "python",
   "nbconvert_exporter": "python",
   "pygments_lexer": "ipython3",
   "version": "3.8.10"
  }
 },
 "nbformat": 4,
 "nbformat_minor": 5
}
