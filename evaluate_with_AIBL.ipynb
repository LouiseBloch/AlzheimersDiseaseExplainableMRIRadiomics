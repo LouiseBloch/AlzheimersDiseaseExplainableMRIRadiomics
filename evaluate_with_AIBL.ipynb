{
 "cells": [
  {
   "cell_type": "code",
   "execution_count": null,
   "id": "581bb8a4",
   "metadata": {},
   "outputs": [],
   "source": []
  },
  {
   "cell_type": "code",
   "execution_count": null,
   "id": "1b5f1f20",
   "metadata": {},
   "outputs": [],
   "source": [
    "# versions: pandas==2.1.1, numpy==1.26.4, scikit-survival==0.24.1"
   ]
  },
  {
   "cell_type": "code",
   "execution_count": null,
   "id": "50937e49",
   "metadata": {},
   "outputs": [],
   "source": [
    "import pandas as pd\n",
    "import os\n",
    "import pickle\n",
    "import numpy as np\n",
    "from sksurv.metrics import concordance_index_censored,concordance_index_ipcw,brier_score,cumulative_dynamic_auc,brier_score,integrated_brier_score\n"
   ]
  },
  {
   "cell_type": "code",
   "execution_count": null,
   "id": "04163cfb",
   "metadata": {},
   "outputs": [],
   "source": [
    "AIBL_DATASET_FILE=\"./data/AIBL_all.csv\""
   ]
  },
  {
   "cell_type": "code",
   "execution_count": null,
   "id": "bc880cf3",
   "metadata": {},
   "outputs": [],
   "source": [
    "FEATURE_SET = \"rBL\"#\"rBL\", \"rBL+VOL\", \"rBL+RAD\", \"rBL+VOL+RAD\"\n",
    "DATASET_SEL = \"CN+MCI\" #one of \"CN+MCI\", \"MCI\"\n",
    "MODEL=\"CoxnetSurvivalAnalysis\" # one of \"CoxnetSurvivalAnalysis\", \"CoxPHSurvivalAnalysis\", \"ExtraSurvivalTrees\", \"GradientBoostingSurvivalAnalysis\", \"RandomSurvivalForest\"\n",
    "SAMPLE_WEIGHTS=True # True or False"
   ]
  },
  {
   "cell_type": "code",
   "execution_count": null,
   "id": "a2212370-2d09-4592-b62d-23b20632ee59",
   "metadata": {},
   "outputs": [],
   "source": [
    "def ipcw_brier_scorer(estimator, X, y):\n",
    "    scores = []\n",
    "    for train_idx, test_idx in index_pairs:  # <- diese benutzt du direkt\n",
    "        X_tr, X_te = X.iloc[train_idx], X.iloc[test_idx]\n",
    "        y_tr, y_te = y[train_idx], y[test_idx]\n",
    "        w_tr, _ = weights[train_idx], weights[test_idx]\n",
    "\n",
    "        estimator.fit(X_tr, y_tr, sample_weight=w_tr)\n",
    "        surv_fns = estimator.predict_survival_function(X_te)\n",
    "        preds = np.asarray([[fn(t) for t in [4.0, 8.0]] for fn in surv_fns])\n",
    "\n",
    "        score = integrated_brier_score(y_tr, y_te, preds, [4.0, 8.0])\n",
    "        scores.append(score)\n",
    "    return -np.mean(scores)"
   ]
  },
  {
   "cell_type": "code",
   "execution_count": null,
   "id": "edd427cb",
   "metadata": {},
   "outputs": [],
   "source": [
    "if SAMPLE_WEIGHTS:\n",
    "    MODEL_DIR = os.path.join(\"./results/\"+MODEL+\"sw_\"+DATASET_SEL+\"_\"+FEATURE_SET+\"/\")\n",
    "else:\n",
    "    MODEL_DIR = os.path.join(\"./results/\"+MODEL+\"_\"+DATASET_SEL+\"_\"+FEATURE_SET+\"/\")"
   ]
  },
  {
   "cell_type": "code",
   "execution_count": null,
   "id": "82c1798e",
   "metadata": {},
   "outputs": [],
   "source": [
    "AIBL_dataset=pd.read_csv(AIBL_DATASET_FILE)\n",
    "AIBL_dataset=pd.get_dummies(AIBL_dataset, columns=[\"APOE4\",\"PTGENDER\",\"MagStrength\"])\n",
    "AIBL_dataset=AIBL_dataset.rename({\"LDELTOTAL\":\"LDELTOT\",\"MMSCORE\":\"MMSE\"},axis=1)\n",
    "AIBL_dataset=AIBL_dataset.set_index([\"PTID\",\"IMAGEUID\"])"
   ]
  },
  {
   "cell_type": "code",
   "execution_count": null,
   "id": "5ba89ad0",
   "metadata": {},
   "outputs": [],
   "source": [
    "if(os.path.exists(MODEL_DIR+\"/normalization_models.sav\")):\n",
    "    filename=MODEL_DIR+\"/normalization_models.sav\"\n",
    "    normalization_models=pickle.load(open(filename, \"rb\"))\n",
    "    for col in normalization_models.keys():\n",
    "        x_test=AIBL_dataset[\"MagStrength_3.0\"].astype(int).to_numpy().reshape((-1, 1))\n",
    "        model = normalization_models[col]\n",
    "        pred_test=model.predict(x_test)\n",
    "        AIBL_dataset.loc[:,col]=AIBL_dataset[col]-pred_test"
   ]
  },
  {
   "cell_type": "code",
   "execution_count": null,
   "id": "437cc487",
   "metadata": {},
   "outputs": [],
   "source": [
    "filename=MODEL_DIR+\"model_bayes_optimization.sav\"\n",
    "clf=pickle.load(open(filename, \"rb\"))"
   ]
  },
  {
   "cell_type": "code",
   "execution_count": null,
   "id": "790e34cf",
   "metadata": {},
   "outputs": [],
   "source": [
    "filename=MODEL_DIR+\"preprocessing_entire_training.sav\"\n",
    "dict_preproc=pickle.load(open(filename, \"rb\"))"
   ]
  },
  {
   "cell_type": "code",
   "execution_count": null,
   "id": "70c7185b",
   "metadata": {},
   "outputs": [],
   "source": [
    "features=dict_preproc[\"imputation\"].get_feature_names_out()"
   ]
  },
  {
   "cell_type": "code",
   "execution_count": null,
   "id": "4d1141f4",
   "metadata": {},
   "outputs": [],
   "source": [
    "df_ges=AIBL_dataset.filter(features,axis=1)"
   ]
  },
  {
   "cell_type": "code",
   "execution_count": null,
   "id": "98d3cff6",
   "metadata": {},
   "outputs": [],
   "source": [
    "imp = dict_preproc[\"imputation\"]\n",
    "X_test_pre_imp=imp.transform(df_ges)\n",
    "scaler = dict_preproc[\"scaler\"]\n",
    "X_test_pre=scaler.transform(X_test_pre_imp)"
   ]
  },
  {
   "cell_type": "code",
   "execution_count": null,
   "id": "d9b7c537",
   "metadata": {},
   "outputs": [],
   "source": [
    "dataNamed_test=pd.DataFrame(X_test_pre,columns=dict_preproc[\"imputation\"].get_feature_names_out())"
   ]
  },
  {
   "cell_type": "code",
   "execution_count": null,
   "id": "85e4f641",
   "metadata": {},
   "outputs": [],
   "source": [
    "dataNamed_test[\"PTID\"]=df_ges.index.get_level_values(0).tolist()\n",
    "dataNamed_test[\"IMAGEUID\"]=df_ges.index.get_level_values(1).tolist()\n",
    "dataNamed_test=dataNamed_test.set_index([\"PTID\",\"IMAGEUID\"])"
   ]
  },
  {
   "cell_type": "code",
   "execution_count": null,
   "id": "a161447f",
   "metadata": {},
   "outputs": [],
   "source": [
    "filename=MODEL_DIR+\"discr_ind.sav\"\n",
    "discr_ind=pickle.load(open(filename, \"rb\"))\n",
    "for ind in discr_ind:\n",
    "    col=imp.get_feature_names_out()[ind]\n",
    "    dataNamed_test[col]=X_test_pre_imp[:,ind]"
   ]
  },
  {
   "cell_type": "code",
   "execution_count": null,
   "id": "5079d9e4",
   "metadata": {},
   "outputs": [],
   "source": [
    "trainingDSCSV=MODEL_DIR+\"/training.csv\"\n",
    "df_train=pd.read_csv(trainingDSCSV)\n",
    "df_train=df_train.set_index([\"PTID\",\"IMAGEUID\"])"
   ]
  },
  {
   "cell_type": "code",
   "execution_count": null,
   "id": "9eb70eea",
   "metadata": {},
   "outputs": [],
   "source": [
    "test=dataNamed_test.filter(df_train.columns,axis=1)"
   ]
  },
  {
   "cell_type": "code",
   "execution_count": null,
   "id": "f49225b4",
   "metadata": {},
   "outputs": [],
   "source": [
    "list_Y_test=list()\n",
    "for i, dat in AIBL_dataset.iterrows():\n",
    "    statNew=False\n",
    "    time=dat.Time\n",
    "    if (dat.Status==\"sCN\") or (dat.Status==\"sMCI\") or (dat.Status==\"CNtoMCI\") or (dat.Status==\"uMCINoAD\") or (dat.Status==\"uCNNoAD\") or (dat.Status==\"CNtoMCI\"):\n",
    "        statNew=False\n",
    "    else:\n",
    "        statNew=True\n",
    "    list_Y_test.append((statNew,time))"
   ]
  },
  {
   "cell_type": "code",
   "execution_count": null,
   "id": "26278022",
   "metadata": {},
   "outputs": [],
   "source": [
    "dt=np.dtype(\"bool,float\")\n",
    "\n",
    "y_test=np.array(list_Y_test,dtype=dt)"
   ]
  },
  {
   "cell_type": "code",
   "execution_count": null,
   "id": "edfc49bc",
   "metadata": {},
   "outputs": [],
   "source": [
    "df_res=pd.read_csv(MODEL_DIR+\"res_table.csv\")"
   ]
  },
  {
   "cell_type": "code",
   "execution_count": null,
   "id": "ab6170b5",
   "metadata": {},
   "outputs": [],
   "source": [
    "filename=MODEL_DIR+\"y_train.sav\"\n",
    "y_train=pickle.load(open(filename, \"rb\"))"
   ]
  },
  {
   "cell_type": "code",
   "execution_count": null,
   "id": "3bacb621",
   "metadata": {},
   "outputs": [],
   "source": [
    "if SAMPLE_WEIGHTS:\n",
    "    survival_functions=clf.best_estimator_.predict_survival_function(test)\n",
    "    surv_4 = np.vstack([chf(4.0) for chf in survival_functions])\n",
    "    #surv_8 = np.vstack([chf(8.0) for chf in survival_functions])\n",
    "    \n",
    "    \n",
    "    status=[i[0] for i in y_test]\n",
    "    time=[i[1] for i in y_test]\n",
    "    \n",
    "    clf_chf_funcs = clf.best_estimator_.predict_cumulative_hazard_function(test, return_array=False)\n",
    "    clf_risk_scores_4 = np.vstack([chf(4.0) for chf in clf_chf_funcs])\n",
    "    #clf_risk_scores_8 = np.vstack([chf(8.0) for chf in clf_chf_funcs])\n",
    "    \n",
    "    cic_4=concordance_index_censored(status, time, clf_risk_scores_4[:,0].tolist())[0]\n",
    "    #cic_8=concordance_index_censored(status, time, clf_risk_scores_8[:,0].tolist())[0]\n",
    "    \n",
    "    cii_4=concordance_index_ipcw(y_train,y_test,clf_risk_scores_4[:,0].tolist(),tau=4.0)[0]\n",
    "    #cii_8=concordance_index_ipcw(y_train,y_test,clf_risk_scores_8[:,0].tolist(),tau=8.0)[0]\n",
    "    \n",
    "    auc_4=cumulative_dynamic_auc(y_train, y_test, clf_risk_scores_4[:,0].tolist(), 4.0)[1]\n",
    "    #auc_8=cumulative_dynamic_auc(y_train, y_test, clf_risk_scores_8[:,0].tolist(), 8.0)[1]\n",
    "    \n",
    "    bs_4=brier_score(y_train, y_test, surv_4[:,0], 4.0)[1][0]\n",
    "    #bs_8=brier_score(y_train, y_test, surv_8[:,0], 8.0)[1][0]\n",
    "    \n",
    "    \n",
    "    print(\"cic_4: \"+str(round(cic_4*100,3)))\n",
    "    print(\"cii_4: \"+str(round(cii_4*100,3)))\n",
    "    print(\"auc_4: \"+str(round(auc_4*100,3)))\n",
    "    print(\"bs_4: \"+str(round(bs_4*100,3)))\n",
    "else:\n",
    "    survival_functions=clf.best_estimator_.predict_survival_function(test)\n",
    "    surv_4 = np.vstack([chf(4.0) for chf in survival_functions])\n",
    "    #surv_8 = np.vstack([chf(8.0) for chf in survival_functions])\n",
    "    \n",
    "    \n",
    "    status=[i[0] for i in y_test]\n",
    "    time=[i[1] for i in y_test]\n",
    "    \n",
    "    clf_chf_funcs = clf.best_estimator_.estimator_.predict_cumulative_hazard_function(test, return_array=False)\n",
    "    clf_risk_scores_4 = np.vstack([chf(4.0) for chf in clf_chf_funcs])\n",
    "    #clf_risk_scores_8 = np.vstack([chf(8.0) for chf in clf_chf_funcs])\n",
    "    \n",
    "    cic_4=concordance_index_censored(status, time, clf_risk_scores_4[:,0].tolist())[0]\n",
    "    #cic_8=concordance_index_censored(status, time, clf_risk_scores_8[:,0].tolist())[0]\n",
    "    \n",
    "    cii_4=concordance_index_ipcw(y_train,y_test,clf_risk_scores_4[:,0].tolist(),tau=4.0)[0]\n",
    "    #cii_8=concordance_index_ipcw(y_train,y_test,clf_risk_scores_8[:,0].tolist(),tau=8.0)[0]\n",
    "    \n",
    "    auc_4=cumulative_dynamic_auc(y_train, y_test, clf_risk_scores_4[:,0].tolist(), 4.0)[1]\n",
    "    #auc_8=cumulative_dynamic_auc(y_train, y_test, clf_risk_scores_8[:,0].tolist(), 8.0)[1]\n",
    "    \n",
    "    bs_4=brier_score(y_train, y_test, surv_4[:,0], 4.0)[1][0]\n",
    "    #bs_8=brier_score(y_train, y_test, surv_8[:,0], 8.0)[1][0]\n",
    "    \n",
    "    \n",
    "    print(\"cic_4: \"+str(round(cic_4*100,3)))\n",
    "    print(\"cii_4: \"+str(round(cii_4*100,3)))\n",
    "    print(\"auc_4: \"+str(round(auc_4*100,3)))\n",
    "    print(\"bs_4: \"+str(round(bs_4*100,3)))\n"
   ]
  },
  {
   "cell_type": "code",
   "execution_count": null,
   "id": "60b604f7",
   "metadata": {},
   "outputs": [],
   "source": [
    "df=pd.DataFrame({\"model\":[MODEL_DIR.split(\"/\")[2].split(\"_\")[0]],\"features\":[FEATURE_SET],\"problem\":[DATASET_SEL],\"concordance_index_censored_4\":[cic_4],\"concordance_index_ipcw_4\":[cii_4],\"cumulative_dynamic_auc_4\": [auc_4],\"brier_score_4\":[bs_4]})\n",
    "df.to_csv(MODEL_DIR+\"res_table_AIBL.csv\")"
   ]
  }
 ],
 "metadata": {
  "kernelspec": {
   "display_name": "Python 3 (ipykernel)",
   "language": "python",
   "name": "python3"
  },
  "language_info": {
   "codemirror_mode": {
    "name": "ipython",
    "version": 3
   },
   "file_extension": ".py",
   "mimetype": "text/x-python",
   "name": "python",
   "nbconvert_exporter": "python",
   "pygments_lexer": "ipython3",
   "version": "3.11.6"
  }
 },
 "nbformat": 4,
 "nbformat_minor": 5
}
