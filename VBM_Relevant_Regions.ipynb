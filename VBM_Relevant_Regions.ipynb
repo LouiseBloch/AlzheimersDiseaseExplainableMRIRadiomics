{
 "cells": [
  {
   "cell_type": "code",
   "execution_count": null,
   "id": "852b88a4",
   "metadata": {},
   "outputs": [],
   "source": [
    "# versions: pandas==2.0.3, nibabel==5.2.1, numpy==1.24.4, scipy==1.8.0"
   ]
  },
  {
   "cell_type": "code",
   "execution_count": null,
   "id": "04899c51",
   "metadata": {},
   "outputs": [],
   "source": [
    "import pandas as pd\n",
    "import nibabel as nib\n",
    "import numpy as np\n",
    "import numpy.linalg as npl\n",
    "from scipy.ndimage import map_coordinates\n"
   ]
  },
  {
   "cell_type": "code",
   "execution_count": null,
   "id": "66dad6bf",
   "metadata": {},
   "outputs": [],
   "source": []
  },
  {
   "cell_type": "code",
   "execution_count": null,
   "id": "5f06b94d",
   "metadata": {},
   "outputs": [],
   "source": [
    "DATASET_TRAIN=\"./data/CN+MCI_BL+VOL_train.csv\"\n",
    "DATASET_TEST=\"./data/CN+MCI_BL+VOL_test.csv\"\n",
    "FASTSURFER_OUTPUT_DIR=\"./data/ADNI/output_fastsurfer/\"\n",
    "VBM_RESULTS_DIR=\"./results/VBM/ADNI/\"\n",
    "VBM_RESULTS_REGION_FILE=\"./results/VBM_Results_Texture_all_not_filtered_new.csv\""
   ]
  },
  {
   "cell_type": "code",
   "execution_count": null,
   "id": "32766547",
   "metadata": {},
   "outputs": [],
   "source": [
    "freesurferMapping=pd.read_table(\"./data/fastsurferMappingReduced.csv\",sep=\",\")\n"
   ]
  },
  {
   "cell_type": "code",
   "execution_count": null,
   "id": "3dac469f",
   "metadata": {},
   "outputs": [],
   "source": []
  },
  {
   "cell_type": "code",
   "execution_count": null,
   "id": "a3a21846",
   "metadata": {},
   "outputs": [],
   "source": [
    "pvalue_img=nib.load(VBM_RESULTS_DIR+\"/VBM_p_value_results_all_fdr.nii.gz\")  \n",
    "pvalue_data=np.asanyarray(pvalue_img.dataobj)\n",
    "img=pvalue_data\n"
   ]
  },
  {
   "cell_type": "code",
   "execution_count": null,
   "id": "6a832454",
   "metadata": {},
   "outputs": [],
   "source": [
    "data_aseg=pd.read_table(FASTSURFER_OUTPUT_DIR+\"aseg_stats.txt\")\n",
    "\n",
    "\n",
    "data_aseg=data_aseg.rename({\"Measure:volume\":\"filename\"},axis=1)\n",
    "data_aseg[\"IMAGEUID\"]=data_aseg.filename.str.split(\"_I\").str[-1].str[:-1]\n",
    "data_aseg=data_aseg.astype({\"IMAGEUID\": \"str\"})\n",
    "data_aseg=data_aseg.filter([\"filename\",\"IMAGEUID\"])\n",
    "paths=FASTSURFER_OUTPUT_DIR+data_aseg.filename+\"/mri/mri/mwp1norm.nii\"\n",
    "data_aseg[\"filename_mwp1\"]=paths\n",
    "\n",
    "paths=FASTSURFER_OUTPUT_DIR+data_aseg.filename+\"/mri/mri/iy_norm.nii\"\n",
    "\n",
    "data_aseg[\"filename_iy\"]=paths\n",
    "paths=FASTSURFER_OUTPUT_DIR+data_aseg.filename+\"/mri/aparc.DKTatlas+aseg.deep.mgz.nii.gz\"\n",
    "\n",
    "data_aseg[\"filename_aparc\"]=paths"
   ]
  },
  {
   "cell_type": "code",
   "execution_count": null,
   "id": "e734ec04",
   "metadata": {},
   "outputs": [],
   "source": [
    "df_ges=pd.read_csv(DATASET_TEST)\n",
    "df_ges=df_ges.astype({\"IMAGEUID\": \"str\"})\n"
   ]
  },
  {
   "cell_type": "code",
   "execution_count": null,
   "id": "25c01d6e",
   "metadata": {},
   "outputs": [],
   "source": [
    "df_ges=pd.merge(df_ges,data_aseg,on=\"IMAGEUID\",how=\"left\")"
   ]
  },
  {
   "cell_type": "code",
   "execution_count": null,
   "id": "92f4283d",
   "metadata": {},
   "outputs": [],
   "source": [
    "column_names = list(freesurferMapping[\"brain region\"])\n",
    "df = pd.DataFrame()"
   ]
  },
  {
   "cell_type": "code",
   "execution_count": null,
   "id": "7600051a",
   "metadata": {},
   "outputs": [],
   "source": [
    "for index,dft in df_ges.iterrows():\n",
    "    print(index)\n",
    "    deformations_img = nib.load(dft[\"filename_iy\"])\n",
    "    deformations_data = np.asanyarray(deformations_img.dataobj)\n",
    "    deformations_data = np.squeeze(deformations_data)\n",
    "    template_img = nib.load(dft[\"filename_mwp1\"])\n",
    "    template_data = np.asanyarray(template_img.dataobj)\n",
    "    vox2vox_mapping = nib.affines.apply_affine(npl.inv(template_img.affine), deformations_data)\n",
    "    for_map_coords = vox2vox_mapping.transpose(3, 0, 1, 2)\n",
    "    subject_into_tpm = map_coordinates(img, for_map_coords)\n",
    "    segmentation_img = nib.load(dft[\"filename_aparc\"])\n",
    "    segmentation_data = np.asanyarray(segmentation_img.dataobj)\n",
    "    seg_Flattened=segmentation_data.flatten()\n",
    "    res_flattened=subject_into_tpm.flatten()\n",
    "    colors, counts = np.unique(seg_Flattened, axis=0, return_counts=True)\n",
    "    summedValues=[0]*counts.shape[0]\n",
    "    summedValues=np.asarray(summedValues)\n",
    "    j=0\n",
    "    for i in colors:\n",
    "        summedValues[j]=res_flattened[seg_Flattened==i].sum()\n",
    "        j+=1\n",
    "    meanValues=summedValues/counts\n",
    "    d = {\"ID\": colors, \"meanValues\": meanValues,\"summedValues\":summedValues, \"counts\":counts}\n",
    "    dfSub = pd.DataFrame(data=d)\n",
    "    dfSub=dfSub.sort_values(\"ID\")\n",
    "    merged_test=freesurferMapping[freesurferMapping.ID.isin(colors)]\n",
    "    merged_test=merged_test.sort_values(\"ID\")\n",
    "    column_names = list(merged_test[\"brain region\"])\n",
    "    values=meanValues.tolist()\n",
    "    df2 = pd.DataFrame([values],columns = column_names)\n",
    "    df=pd.concat([df, df2], ignore_index=True)"
   ]
  },
  {
   "cell_type": "code",
   "execution_count": null,
   "id": "b9511855",
   "metadata": {},
   "outputs": [],
   "source": [
    "df.to_csv(VBM_RESULTS_REGION_FILE)"
   ]
  },
  {
   "cell_type": "code",
   "execution_count": null,
   "id": "5a011870",
   "metadata": {},
   "outputs": [],
   "source": []
  },
  {
   "cell_type": "code",
   "execution_count": null,
   "id": "88d71c0b",
   "metadata": {},
   "outputs": [],
   "source": []
  }
 ],
 "metadata": {
  "kernelspec": {
   "display_name": "Python 3 (ipykernel)",
   "language": "python",
   "name": "python3"
  },
  "language_info": {
   "codemirror_mode": {
    "name": "ipython",
    "version": 3
   },
   "file_extension": ".py",
   "mimetype": "text/x-python",
   "name": "python",
   "nbconvert_exporter": "python",
   "pygments_lexer": "ipython3",
   "version": "3.8.10"
  }
 },
 "nbformat": 4,
 "nbformat_minor": 5
}
