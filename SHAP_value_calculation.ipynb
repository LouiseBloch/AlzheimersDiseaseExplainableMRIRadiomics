{
 "cells": [
  {
   "cell_type": "code",
   "execution_count": null,
   "id": "93ae5944-3d2a-44fb-beab-4d04af378019",
   "metadata": {},
   "outputs": [],
   "source": []
  },
  {
   "cell_type": "code",
   "execution_count": null,
   "id": "3cd847f0-cc36-47a0-829d-652ad28f42ac",
   "metadata": {},
   "outputs": [],
   "source": [
    "#versions: shap==0.48.0, pandas==2.1.1, matplotlib==3.8.0, numpy==1.26.4\n"
   ]
  },
  {
   "cell_type": "code",
   "execution_count": null,
   "id": "7219c831",
   "metadata": {},
   "outputs": [],
   "source": [
    "import shap\n",
    "import os\n",
    "import pandas as pd\n",
    "import pickle\n",
    "import matplotlib.pyplot as plt\n",
    "import numpy as np\n",
    "import time"
   ]
  },
  {
   "cell_type": "code",
   "execution_count": null,
   "id": "b9b21a1e",
   "metadata": {},
   "outputs": [],
   "source": []
  },
  {
   "cell_type": "code",
   "execution_count": null,
   "id": "58f0319a",
   "metadata": {},
   "outputs": [],
   "source": [
    "FEATURE_SET = \"rBL\"#one of \"BL\", \"BL+VOL\", \"BL+RAD\", \"BL+VOL+RAD\", \"rBL\", \"rBL+VOL\", \"rBL+RAD\", \"rBL+VOL+RAD\"\n",
    "DATASET_SEL = \"CN+MCI\" #one of \"CN+MCI\", \"MCI\"\n",
    "MODEL=\"CoxnetSurvivalAnalysis\" # one of \"CoxnetSurvivalAnalysis\", \"CoxPHSurvivalAnalysis\", \"ExtraSurvivalTrees\", \"GradientBoostingSurvivalAnalysis\", \"RandomSurvivalForest\"\n",
    "SAMPLE_WEIGHTS=True # True or False\n"
   ]
  },
  {
   "cell_type": "code",
   "execution_count": null,
   "id": "8410a16a",
   "metadata": {},
   "outputs": [],
   "source": [
    "if SAMPLE_WEIGHTS:\n",
    "    MODEL_DIR = os.path.join(\"./results/\"+MODEL+\"sw_\"+DATASET_SEL+\"_\"+FEATURE_SET+\"/\")\n",
    "else:\n",
    "    MODEL_DIR = os.path.join(\"./results/\"+MODEL+\"_\"+DATASET_SEL+\"_\"+FEATURE_SET+\"/\")"
   ]
  },
  {
   "cell_type": "code",
   "execution_count": null,
   "id": "e7198453",
   "metadata": {},
   "outputs": [],
   "source": [
    "def ipcw_brier_scorer(estimator, X, y):\n",
    "    scores = []\n",
    "    for train_idx, test_idx in index_pairs:  # <- diese benutzt du direkt\n",
    "        X_tr, X_te = X.iloc[train_idx], X.iloc[test_idx]\n",
    "        y_tr, y_te = y[train_idx], y[test_idx]\n",
    "        w_tr, _ = weights[train_idx], weights[test_idx]\n",
    "\n",
    "        estimator.fit(X_tr, y_tr, sample_weight=w_tr)\n",
    "        surv_fns = estimator.predict_survival_function(X_te)\n",
    "        preds = np.asarray([[fn(t) for t in [4.0, 8.0]] for fn in surv_fns])\n",
    "\n",
    "        score = integrated_brier_score(y_tr, y_te, preds, [4.0, 8.0])\n",
    "        scores.append(score)\n",
    "    return -np.mean(scores)"
   ]
  },
  {
   "cell_type": "code",
   "execution_count": null,
   "id": "a5712149",
   "metadata": {},
   "outputs": [],
   "source": []
  },
  {
   "cell_type": "code",
   "execution_count": null,
   "id": "03e2ab62",
   "metadata": {},
   "outputs": [],
   "source": [
    "filenameCSV=MODEL_DIR+\"/resultsCV.csv\"\n",
    "trainingDSCSV=MODEL_DIR+\"/training.csv\"\n",
    "testDSCSV=MODEL_DIR+\"/test.csv\"\n",
    "filename=MODEL_DIR+\"/model_bayes_optimization.sav\"\n",
    "clf=pickle.load(open(filename, \"rb\"))\n",
    "df_ges= pd.read_csv(trainingDSCSV)\n",
    "df_ges_test= pd.read_csv(testDSCSV)\n",
    "df_ges=df_ges.set_index([\"PTID\",\"IMAGEUID\"])\n",
    "df_ges_test=df_ges_test.set_index([\"PTID\",\"IMAGEUID\"])\n",
    "def f(x):\n",
    "    new=pd.DataFrame(x,columns=df_ges.columns)\n",
    "    return clf.predict(new)\n",
    "\n",
    "explainer = shap.Explainer(f, df_ges)\n",
    "start_time = time.time()\n",
    "shap_values = explainer(df_ges_test)\n",
    "end_time = time.time()\n",
    "print(\"--- %s seconds ---\" % (end_time - start_time))\n",
    "print(shap_values.shape[0])\n",
    "savename_shapley_data=MODEL_DIR+\"/ShapValues_test_ADNI.pkl\"\n",
    "with open(savename_shapley_data, \"wb\") as outp:\n",
    "    pickle.dump(shap_values, outp)"
   ]
  }
 ],
 "metadata": {
  "kernelspec": {
   "display_name": "Python 3 (ipykernel)",
   "language": "python",
   "name": "python3"
  },
  "language_info": {
   "codemirror_mode": {
    "name": "ipython",
    "version": 3
   },
   "file_extension": ".py",
   "mimetype": "text/x-python",
   "name": "python",
   "nbconvert_exporter": "python",
   "pygments_lexer": "ipython3",
   "version": "3.11.6"
  }
 },
 "nbformat": 4,
 "nbformat_minor": 5
}
