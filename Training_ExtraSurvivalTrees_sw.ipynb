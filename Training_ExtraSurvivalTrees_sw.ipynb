{
 "cells": [
  {
   "cell_type": "code",
   "execution_count": null,
   "id": "c584542d",
   "metadata": {},
   "outputs": [],
   "source": [
    "# versions: pandas==2.1.1, numpy==1.26.4, scikit-learn==1.6.1, scikit-survival==0.24.1, lifelines==0.30.0, scikit-optimize==0.10.2, statsmodels==0.14.0"
   ]
  },
  {
   "cell_type": "code",
   "execution_count": null,
   "id": "bde76150",
   "metadata": {},
   "outputs": [],
   "source": [
    "import pandas as pd\n",
    "import numpy as np\n",
    "import os\n",
    "from sklearn.impute import SimpleImputer\n",
    "import pickle\n",
    "from sklearn.linear_model import LinearRegression\n",
    "from sklearn.preprocessing import RobustScaler\n",
    "from sklearn.feature_selection import VarianceThreshold\n",
    "from sklearn.model_selection import RepeatedStratifiedKFold\n",
    "from sksurv.metrics import concordance_index_censored,concordance_index_ipcw,brier_score,as_integrated_brier_score_scorer,cumulative_dynamic_auc,integrated_brier_score\n",
    "from sksurv.ensemble import ExtraSurvivalTrees\n",
    "from lifelines import CoxPHFitter\n",
    "\n",
    "from sklearn.feature_selection import SequentialFeatureSelector\n",
    "from skopt import BayesSearchCV\n",
    "import skopt\n",
    "\n",
    "\n",
    "from sksurv.nonparametric import kaplan_meier_estimator\n",
    "from statsmodels.stats.outliers_influence import variance_inflation_factor"
   ]
  },
  {
   "cell_type": "code",
   "execution_count": null,
   "id": "4cbcfad6",
   "metadata": {},
   "outputs": [],
   "source": [
    "FEATURE_SET = \"rBL\"#one of \"BL\", \"BL+VOL\", \"BL+RAD\", \"BL+VOL+RAD\", \"rBL\", \"rBL+VOL\", \"rBL+RAD\", \"rBL+VOL+RAD\"\n",
    "DATASET_SEL = \"CN+MCI\" #one of \"CN+MCI\", \"MCI\""
   ]
  },
  {
   "cell_type": "code",
   "execution_count": null,
   "id": "ccc45cff",
   "metadata": {},
   "outputs": [],
   "source": [
    "DATASET_TRAIN=\"./data/\"+DATASET_SEL+\"_\"+FEATURE_SET+\"_train.csv\"\n",
    "DATASET_TEST=\"./data/\"+DATASET_SEL+\"_\"+FEATURE_SET+\"_test.csv\""
   ]
  },
  {
   "cell_type": "code",
   "execution_count": null,
   "id": "cf08b96a",
   "metadata": {},
   "outputs": [],
   "source": [
    "MODEL_DIR = os.path.join(\"./results/ExtraSurvivalTreessw_\"+DATASET_SEL+\"_\"+FEATURE_SET+\"/\")\n",
    "filenameCSV=MODEL_DIR+\"/resultsCV.csv\"\n",
    "trainingDSCSV=MODEL_DIR+\"/training.csv\"\n",
    "testDSCSV=MODEL_DIR+\"/test.csv\""
   ]
  },
  {
   "cell_type": "code",
   "execution_count": null,
   "id": "51aee293",
   "metadata": {},
   "outputs": [],
   "source": [
    "if not os.path.exists(MODEL_DIR):\n",
    "    os.makedirs(MODEL_DIR)"
   ]
  },
  {
   "cell_type": "code",
   "execution_count": null,
   "id": "582b8c2c",
   "metadata": {},
   "outputs": [],
   "source": []
  },
  {
   "cell_type": "code",
   "execution_count": null,
   "id": "46e8428a",
   "metadata": {},
   "outputs": [],
   "source": [
    "train=pd.read_csv(DATASET_TRAIN)\n",
    "test=pd.read_csv(DATASET_TEST)\n",
    "train=train.set_index([\"PTID\",\"IMAGEUID\"])\n",
    "test=test.set_index([\"PTID\",\"IMAGEUID\"])"
   ]
  },
  {
   "cell_type": "code",
   "execution_count": null,
   "id": "3712fcd6",
   "metadata": {},
   "outputs": [],
   "source": []
  },
  {
   "cell_type": "code",
   "execution_count": null,
   "id": "d55f31fc",
   "metadata": {},
   "outputs": [],
   "source": [
    "if not((FEATURE_SET==\"BL\")|(FEATURE_SET==\"rBL\")):\n",
    "    non_MRI_features=[\"PTEDUCAT\", \"ADAS11\", \"ADAS13\", \"ADASQ4\", \"MMSE\", \"CDRSB\", \"CDGLOBAL\", \n",
    "                      \"LIMMTOTAL\", \"RAVLT_immediate\", \"RAVLT_learning\", \"RAVLT_forgetting\", \n",
    "                      \"RAVLT_perc_forgetting\", \"mPACCdigit\", \"mPACCtrailsB\", \"LDELTOT\", \n",
    "                      \"TRAB\", \"FAQ\", \"MOCA\", \"EcogPtMem\", \"EcogPtLang\", \"EcogPtVisspat\", \n",
    "                      \"EcogPtPlan\", \"EcogPtOrgan\", \"EcogPtDivatt\", \"EcogPtTotal\", \"EcogSPMem\", \n",
    "                      \"EcogSPLang\", \"EcogSPVisspat\", \"EcogSPPlan\", \"cogSPOrgan\", \"EcogSPDivatt\",\n",
    "                      \"EcogSPTotal\", \"AGE\", \"PHS\", \"CIR\", \"Status\", \"Time\", \"PTETHCAT_Unknown\", \n",
    "                      \"PTETHCAT_Not Hisp/Latino\", \"PTETHCAT_Hisp/Latino\", \"PTRACCAT_Am Indian/Alaskan\", \n",
    "                      \"PTRACCAT_Asian\", \"PTRACCAT_Hawaiian/Other PI\", \"PTRACCAT_Black\", \"PTRACCAT_White\", \n",
    "                      \"PTRACCAT_More than one\", \"PTRACCAT_Unknown\", \"PTMARRY_Divorced\", \n",
    "                      \"PTMARRY_Married\", \"PTMARRY_Never married\", \"PTMARRY_Unknown\", \"PTMARRY_Widowed\", \n",
    "                      \"APOE4_0.0\", \"APOE4_1.0\", \"APOE4_2.0\", \"MagStrength_1.5\", \"MagStrength_3.0\", \n",
    "                      \"PTGENDER_Female\", \"PTGENDER_Male\"]\n",
    "    normalization_models=dict()\n",
    "    for col in train.columns[~train.columns.isin(non_MRI_features)]:\n",
    "        x=train[\"MagStrength_3.0\"].astype(int).to_numpy().reshape((-1, 1))\n",
    "        x_test=test[\"MagStrength_3.0\"].astype(int).to_numpy().reshape((-1, 1))\n",
    "        y = train[col].to_numpy()\n",
    "        model = LinearRegression()\n",
    "        model.fit(x, y)\n",
    "        pred=model.predict(x)\n",
    "        pred_test=model.predict(x_test)\n",
    "        train.loc[:,col]=train[col]-pred\n",
    "        test.loc[:,col]=test[col]-pred_test\n",
    "        normalization_models[col]=model\n",
    "    filename=MODEL_DIR+\"normalization_models.sav\"\n",
    "    pickle.dump(normalization_models, open(filename, \"wb\"))"
   ]
  },
  {
   "cell_type": "code",
   "execution_count": null,
   "id": "ead930e0",
   "metadata": {},
   "outputs": [],
   "source": [
    "selector = VarianceThreshold()\n",
    "X=selector.fit_transform(train.drop([\"Time\",\"Status\"],axis=1))\n",
    "\n",
    "df_X=pd.DataFrame(X)\n",
    "\n",
    "df_X.columns=selector.get_feature_names_out()\n",
    "df_X=df_X.reset_index(drop=True)\n",
    "df_X[\"PTID\"]=train.index.get_level_values(0).tolist()\n",
    "df_X[\"IMAGEUID\"]=train.index.get_level_values(1).tolist()\n",
    "df_X=df_X.set_index([\"PTID\",\"IMAGEUID\"])\n",
    "X_train=df_X"
   ]
  },
  {
   "cell_type": "code",
   "execution_count": null,
   "id": "aa59ba3d",
   "metadata": {},
   "outputs": [],
   "source": [
    "test_filtered=test.filter(df_X.columns.tolist(),axis=1)\n",
    "X_test=test_filtered"
   ]
  },
  {
   "cell_type": "code",
   "execution_count": null,
   "id": "6b6de226",
   "metadata": {},
   "outputs": [],
   "source": []
  },
  {
   "cell_type": "code",
   "execution_count": null,
   "id": "bffa4bb5",
   "metadata": {},
   "outputs": [],
   "source": [
    "imp = SimpleImputer(strategy=\"median\").fit(X_train)\n",
    "X_train_pre_imp=imp.transform(X_train)\n",
    "X_test_pre_imp=imp.transform(X_test)\n",
    "\n",
    "scaler = RobustScaler().fit(X_train_pre_imp)\n",
    "X_train_pre=scaler.transform(X_train_pre_imp)\n",
    "X_test_pre=scaler.transform(X_test_pre_imp)"
   ]
  },
  {
   "cell_type": "code",
   "execution_count": null,
   "id": "b1821f36",
   "metadata": {},
   "outputs": [],
   "source": [
    "dict_preproc={}\n",
    "dict_preproc[\"imputation\"]=imp\n",
    "dict_preproc[\"scaler\"]=scaler\n",
    "filename=MODEL_DIR+\"preprocessing_entire_training.sav\"\n",
    "pickle.dump(dict_preproc, open(filename, \"wb\"))"
   ]
  },
  {
   "cell_type": "code",
   "execution_count": null,
   "id": "aa56dd1b",
   "metadata": {},
   "outputs": [],
   "source": []
  },
  {
   "cell_type": "code",
   "execution_count": null,
   "id": "5106ea75",
   "metadata": {},
   "outputs": [],
   "source": [
    "dataNamed=pd.DataFrame(X_train_pre,columns=X_train.columns)\n",
    "dataNamed_test=pd.DataFrame(X_test_pre,columns=X_train.columns)"
   ]
  },
  {
   "cell_type": "code",
   "execution_count": null,
   "id": "1a9333a3",
   "metadata": {},
   "outputs": [],
   "source": [
    "dataNamed[\"PTID\"]=train.index.get_level_values(0).tolist()\n",
    "dataNamed[\"IMAGEUID\"]=train.index.get_level_values(1).tolist()\n",
    "dataNamed=dataNamed.set_index([\"PTID\",\"IMAGEUID\"])\n",
    "\n",
    "dataNamed_test[\"PTID\"]=X_test.index.get_level_values(0).tolist()\n",
    "dataNamed_test[\"IMAGEUID\"]=X_test.index.get_level_values(1).tolist()\n",
    "dataNamed_test=dataNamed_test.set_index([\"PTID\",\"IMAGEUID\"])"
   ]
  },
  {
   "cell_type": "code",
   "execution_count": null,
   "id": "343d4120",
   "metadata": {},
   "outputs": [],
   "source": [
    "discr_ind=[]\n",
    "i=0\n",
    "for col in X_train.columns:\n",
    "    if X_train[col].value_counts().shape[0]<=2:\n",
    "        discr_ind.append(i)\n",
    "    i+=1\n",
    "for ind in discr_ind:\n",
    "    col=imp.get_feature_names_out()[ind]\n",
    "    dataNamed[col]=X_train_pre_imp[:,ind]\n",
    "    dataNamed_test[col]=X_test_pre_imp[:,ind]\n",
    "filename=MODEL_DIR+\"discr_ind.sav\"\n",
    "pickle.dump(discr_ind, open(filename, \"wb\"))"
   ]
  },
  {
   "cell_type": "code",
   "execution_count": null,
   "id": "2c41109f",
   "metadata": {},
   "outputs": [],
   "source": [
    "dataNamed_filtered=dataNamed\n",
    "dataNamed_filtered_test=dataNamed_test\n",
    "df=dataNamed_filtered\n",
    "df_test=dataNamed_filtered_test"
   ]
  },
  {
   "cell_type": "code",
   "execution_count": null,
   "id": "10ac693d",
   "metadata": {},
   "outputs": [],
   "source": [
    "discr=[]\n",
    "for col in df.columns:\n",
    "    if df[col].value_counts().shape[0]<=5:\n",
    "        print(col)\n",
    "        discr.append(True)\n",
    "    else:\n",
    "        discr.append(False)"
   ]
  },
  {
   "cell_type": "code",
   "execution_count": null,
   "id": "85e3c79d",
   "metadata": {},
   "outputs": [],
   "source": [
    "list_Y_train=list()\n",
    "for i, dat in train.iterrows():\n",
    "    statNew=False\n",
    "    time=dat.Time\n",
    "    if (dat.Status==\"sCN\") or (dat.Status==\"sMCI\") or (dat.Status==\"CNtoMCI\") or (dat.Status==\"uMCINoAD\") or (dat.Status==\"uCNNoAD\"):\n",
    "        statNew=False\n",
    "    else:\n",
    "        statNew=True\n",
    "    list_Y_train.append((statNew,time))"
   ]
  },
  {
   "cell_type": "code",
   "execution_count": null,
   "id": "2529ae20",
   "metadata": {},
   "outputs": [],
   "source": [
    "list_Y_test=list()\n",
    "for i, dat in test.iterrows():\n",
    "    statNew=False\n",
    "    time=dat.Time\n",
    "    if (dat.Status==\"sCN\") or (dat.Status==\"sMCI\") or (dat.Status==\"CNtoMCI\") or (dat.Status==\"uMCINoAD\") or (dat.Status==\"uCNNoAD\"):\n",
    "        statNew=False\n",
    "    else:\n",
    "        statNew=True\n",
    "    list_Y_test.append((statNew,time))"
   ]
  },
  {
   "cell_type": "code",
   "execution_count": null,
   "id": "c47611bb",
   "metadata": {},
   "outputs": [],
   "source": [
    "dt=np.dtype(\"bool,float\")\n",
    "\n",
    "y_train=np.array(list_Y_train,dtype=dt)"
   ]
  },
  {
   "cell_type": "code",
   "execution_count": null,
   "id": "067d7075",
   "metadata": {},
   "outputs": [],
   "source": [
    "status=[i[0] for i in y_train]\n",
    "time_extracted=[i[1] for i in y_train]"
   ]
  },
  {
   "cell_type": "code",
   "execution_count": null,
   "id": "bacc407a",
   "metadata": {},
   "outputs": [],
   "source": [
    "df_copy=df.copy()\n",
    "\n",
    "df_copy.loc[:,\"Time\"]=time_extracted\n",
    "\n",
    "df_copy.loc[:,\"Event\"]=status\n",
    "\n",
    "df_copy.iloc[:,:-2].columns\n",
    "\n",
    "res_list=[]\n",
    "\n",
    "for col in df_copy.iloc[:,:-2].columns:\n",
    "    cph = CoxPHFitter(penalizer=0.1)\n",
    "    cph.fit(df_copy.filter([col,\"Time\",\"Event\"],axis=1), duration_col=\"Time\", event_col=\"Event\")\n",
    "    value=cph.concordance_index_\n",
    "    res_list.append(value)\n",
    "res=np.array(res_list)"
   ]
  },
  {
   "cell_type": "code",
   "execution_count": null,
   "id": "bd09f76c",
   "metadata": {},
   "outputs": [],
   "source": [
    "scores = [(df.columns[i],res[i]) for i in range(res.shape[0])]\n",
    "scores.sort(key = lambda x : -x[1])"
   ]
  },
  {
   "cell_type": "code",
   "execution_count": null,
   "id": "d6d9ad9b",
   "metadata": {},
   "outputs": [],
   "source": [
    "scores.sort(key = lambda x : -x[1])"
   ]
  },
  {
   "cell_type": "code",
   "execution_count": null,
   "id": "439209d8",
   "metadata": {},
   "outputs": [],
   "source": [
    "def compute_vif(X):\n",
    "     \n",
    "    vif = pd.DataFrame()\n",
    "    vif[\"Variable\"] = X.columns\n",
    "    vif[\"VIF\"] = [variance_inflation_factor(X.values, i) for i in range(X.shape[1])]\n",
    "    vif = vif[vif[\"Variable\"]!=\"intercept\"]\n",
    "    return vif"
   ]
  },
  {
   "cell_type": "code",
   "execution_count": null,
   "id": "87dd8eab",
   "metadata": {},
   "outputs": [],
   "source": [
    "selected_features = []\n",
    "for i in range(len(scores)):\n",
    "    if len(selected_features) == 0:\n",
    "        selected_features.append(scores[0][0])\n",
    "        print(scores[0][0])\n",
    "    else:\n",
    "        feature_it = scores[i][0]\n",
    "        df_new=df.filter(selected_features+[feature_it],axis=1)\n",
    "        vifs=compute_vif(df_new)\n",
    "        if not ((vifs.VIF>10).any() | ((df_new.corr()-np.identity(df_new.shape[1])).abs().max().max()>0.9)|(scores[i][1]<=0.0)):\n",
    "            selected_features.append(feature_it)\n",
    "            print(feature_it)\n",
    "    if i%1000==0 :\n",
    "        print(str(i)+\": \"+str(len(selected_features)))"
   ]
  },
  {
   "cell_type": "code",
   "execution_count": null,
   "id": "43598958",
   "metadata": {},
   "outputs": [],
   "source": [
    "len(selected_features)"
   ]
  },
  {
   "cell_type": "code",
   "execution_count": null,
   "id": "7a243a10",
   "metadata": {},
   "outputs": [],
   "source": [
    "selected_features"
   ]
  },
  {
   "cell_type": "code",
   "execution_count": null,
   "id": "29458d65",
   "metadata": {},
   "outputs": [],
   "source": [
    "df_X_sel_FS1=df.filter(selected_features,axis=1)"
   ]
  },
  {
   "cell_type": "code",
   "execution_count": null,
   "id": "808bc0d1",
   "metadata": {},
   "outputs": [],
   "source": [
    "df_X_sel_FS1.to_csv(MODEL_DIR+\"features_PCA_filtered_train.csv\")"
   ]
  },
  {
   "cell_type": "code",
   "execution_count": null,
   "id": "91990bb5",
   "metadata": {},
   "outputs": [],
   "source": [
    "train_filtered_FS1=df_X_sel_FS1"
   ]
  },
  {
   "cell_type": "code",
   "execution_count": null,
   "id": "de6f916c",
   "metadata": {},
   "outputs": [],
   "source": [
    "train_copy=train_filtered_FS1.copy()\n",
    "train_copy=train_copy.reset_index(drop=True)\n"
   ]
  },
  {
   "cell_type": "code",
   "execution_count": null,
   "id": "67f3cdd8",
   "metadata": {},
   "outputs": [],
   "source": [
    "index_pairs=[]\n",
    "rkf = RepeatedStratifiedKFold(n_splits=5, n_repeats=20, random_state=412)\n",
    "for i, (train_index, test_index) in enumerate(rkf.split(train,train.Status)):\n",
    "    filtered_t=train.iloc[train_index]\n",
    "    filtered_test=train.iloc[test_index]\n",
    "    extracted_indices=train_copy[train_filtered_FS1.index.get_level_values(0).isin(filtered_t.index.get_level_values(0))].index\n",
    "    test_part=train[train_filtered_FS1.index.get_level_values(0).isin(filtered_test.index.get_level_values(0))]\n",
    "    test_part=test_part.sort_values(\"AGE\")\n",
    "    extracted_indices_test=train_copy[train_filtered_FS1.index.get_level_values(1).isin(test_part[~test_part.index.get_level_values(0).duplicated()].index.get_level_values(1))].index\n",
    "    index_pairs.append((extracted_indices.tolist(),extracted_indices_test.tolist()))"
   ]
  },
  {
   "cell_type": "code",
   "execution_count": null,
   "id": "dc6df8fa",
   "metadata": {},
   "outputs": [],
   "source": []
  },
  {
   "cell_type": "code",
   "execution_count": null,
   "id": "40575933",
   "metadata": {},
   "outputs": [],
   "source": []
  },
  {
   "cell_type": "code",
   "execution_count": null,
   "id": "29887223",
   "metadata": {},
   "outputs": [],
   "source": [
    "event_ind = [x[0] for x in y_train]\n",
    "time_ind = [x[1] for x in y_train]"
   ]
  },
  {
   "cell_type": "code",
   "execution_count": null,
   "id": "3b70daf5",
   "metadata": {},
   "outputs": [],
   "source": [
    "\n",
    "times, survival_probs = kaplan_meier_estimator(~np.array(event_ind), np.array(time_ind))\n",
    "\n",
    "weights = np.interp( np.array(time_ind), times, survival_probs)\n",
    "weights = np.clip(weights, 0.01, 1.0) \n",
    "weights = 1 / weights"
   ]
  },
  {
   "cell_type": "code",
   "execution_count": null,
   "id": "8d8c9a39",
   "metadata": {},
   "outputs": [],
   "source": [
    "clf = ExtraSurvivalTrees(random_state=474)"
   ]
  },
  {
   "cell_type": "code",
   "execution_count": null,
   "id": "76a99074",
   "metadata": {},
   "outputs": [],
   "source": [
    "def make_ipcw_brier_scorer(y, sample_weight, times, cv):\n",
    "    def scorer(estimator, X_selected, y_selected):\n",
    "        scores = []\n",
    "        for train_idx, test_idx in cv:\n",
    "            X_tr, X_te = X_selected[train_idx], X_selected[test_idx]\n",
    "            y_tr, y_te = y[train_idx], y[test_idx]\n",
    "            w_tr, w_te = sample_weight[train_idx], sample_weight[test_idx]\n",
    "\n",
    "            estimator.fit(X_tr, y_tr, sample_weight=w_tr)\n",
    "            surv_fns = estimator.predict_survival_function(X_te)\n",
    "            preds = np.asarray([[fn(t) for t in times] for fn in surv_fns])\n",
    "\n",
    "            score = score = integrated_brier_score(y_tr, y_te, preds, times)\n",
    "            scores.append(score)\n",
    "        return -np.mean(scores)  \n",
    "    return scorer\n",
    "\n",
    "scorer = make_ipcw_brier_scorer(y_train, weights, [4.0,8.0], index_pairs)\n"
   ]
  },
  {
   "cell_type": "code",
   "execution_count": null,
   "id": "27d5e73c",
   "metadata": {},
   "outputs": [],
   "source": [
    "Y_time=[i[1] for i in y_train]"
   ]
  },
  {
   "cell_type": "code",
   "execution_count": null,
   "id": "6d179353",
   "metadata": {},
   "outputs": [],
   "source": []
  },
  {
   "cell_type": "code",
   "execution_count": null,
   "id": "c027c0b4",
   "metadata": {},
   "outputs": [],
   "source": [
    "if train_filtered_FS1.shape[1]>10:\n",
    "    sfs1 = SequentialFeatureSelector(\n",
    "        estimator=clf,\n",
    "        n_features_to_select=min(train_filtered_FS1.shape[1],11),\n",
    "        scoring=scorer,\n",
    "        cv=[(np.arange(len(y_train)), np.arange(len(y_train)))])\n",
    "\n",
    "    sfs1 = sfs1.fit(train_filtered_FS1, y_train)\n",
    "\n",
    "\n",
    "    selected_columns=train_filtered_FS1.columns[sfs1.support_].tolist()\n",
    "\n",
    "    selected_columns\n",
    "\n",
    "    train_filtered_FS2=train_filtered_FS1[selected_columns]\n",
    "    test=df_test[selected_columns]\n",
    "else:\n",
    "    train_filtered_FS2=train_filtered_FS1\n",
    "    test=df_test"
   ]
  },
  {
   "cell_type": "code",
   "execution_count": null,
   "id": "e64ed123",
   "metadata": {},
   "outputs": [],
   "source": [
    "sfs2 = SequentialFeatureSelector(\n",
    "    estimator=clf,\n",
    "    n_features_to_select=\"auto\",\n",
    "    scoring=scorer,\n",
    "    cv=[(np.arange(len(y_train)), np.arange(len(y_train)))], tol=0.0\n",
    ")\n",
    "\n",
    "sfs2 = sfs2.fit(train_filtered_FS2, y_train)\n",
    "\n",
    "sfs2.feature_names_in_[sfs2.support_]\n",
    "\n",
    "\n",
    "selected_columns=train_filtered_FS2.columns[sfs2.support_].tolist()\n",
    "\n",
    "train_filtered_FS2=train_filtered_FS2[selected_columns]\n",
    "test=df_test[selected_columns]"
   ]
  },
  {
   "cell_type": "code",
   "execution_count": null,
   "id": "6f9eba2f",
   "metadata": {},
   "outputs": [],
   "source": [
    "train_filtered_FS2.to_csv(trainingDSCSV, header=True)\n",
    "test.to_csv(testDSCSV, header=True)\n"
   ]
  },
  {
   "cell_type": "code",
   "execution_count": null,
   "id": "b131d6e6",
   "metadata": {},
   "outputs": [],
   "source": [
    "index_pairs=[]\n",
    "rkf = RepeatedStratifiedKFold(n_splits=5, n_repeats=20, random_state=7312)\n",
    "for i, (train_index, test_index) in enumerate(rkf.split(train,train.Status)):\n",
    "    filtered_t=train.iloc[train_index]\n",
    "    filtered_test=train.iloc[test_index]\n",
    "    extracted_indices=train_copy[train_filtered_FS2.index.get_level_values(0).isin(filtered_t.index.get_level_values(0))].index\n",
    "    test_part=train[train_filtered_FS2.index.get_level_values(0).isin(filtered_test.index.get_level_values(0))]\n",
    "    test_part=test_part.sort_values(\"AGE\")\n",
    "    extracted_indices_test=train_copy[train_filtered_FS2.index.get_level_values(1).isin(test_part[~test_part.index.get_level_values(0).duplicated()].index.get_level_values(1))].index\n",
    "    index_pairs.append((extracted_indices.tolist(),extracted_indices_test.tolist()))"
   ]
  },
  {
   "cell_type": "code",
   "execution_count": null,
   "id": "74fc36b8",
   "metadata": {},
   "outputs": [],
   "source": [
    "def ipcw_brier_scorer(estimator, X, y):\n",
    "    scores = []\n",
    "    for train_idx, test_idx in index_pairs:  \n",
    "        X_tr, X_te = X.iloc[train_idx], X.iloc[test_idx]\n",
    "        y_tr, y_te = y[train_idx], y[test_idx]\n",
    "        w_tr, _ = weights[train_idx], weights[test_idx]\n",
    "\n",
    "        estimator.fit(X_tr, y_tr, sample_weight=w_tr)\n",
    "        surv_fns = estimator.predict_survival_function(X_te)\n",
    "        preds = np.asarray([[fn(t) for t in [4.0, 8.0]] for fn in surv_fns])\n",
    "\n",
    "        score = integrated_brier_score(y_tr, y_te, preds, [4.0, 8.0])\n",
    "        scores.append(score)\n",
    "    return -np.mean(scores)"
   ]
  },
  {
   "cell_type": "code",
   "execution_count": null,
   "id": "4c4ab51a",
   "metadata": {},
   "outputs": [],
   "source": [
    "params = dict()\n",
    "params[\"n_estimators\"] = skopt.space.space.Integer(10,1000)\n",
    "params[\"max_depth\"] = skopt.space.space.Integer(5,20)\n",
    "params[\"min_samples_split\"] = skopt.space.space.Real(0.001,0.1)\n",
    "params[\"min_samples_leaf\"] = skopt.space.space.Real(0.001,0.1)\n",
    "params[\"max_features\"] = skopt.space.space.Categorical([\"sqrt\",\"log2\"])\n",
    "training=train_filtered_FS2\n",
    "\n",
    "\n",
    "n_jobs=5\n",
    "\n",
    "model = ExtraSurvivalTrees(random_state=474)\n",
    "\n",
    "clf = BayesSearchCV(\n",
    "    estimator=model,\n",
    "    search_spaces=params,\n",
    "    n_iter=100,\n",
    "    cv=[(np.arange(len(y_train)), np.arange(len(y_train)))],\n",
    "    n_jobs=-1,\n",
    "    scoring=ipcw_brier_scorer,  \n",
    "    optimizer_kwargs={\n",
    "        \"initial_point_generator\": \"lhs\",\n",
    "        \"n_initial_points\": 50,\n",
    "        \"acq_func\": \"LCB\"\n",
    "    },\n",
    "    random_state=50,\n",
    "    return_train_score=True\n",
    ")\n",
    "clf.fit(training, y_train)\n",
    "filename=MODEL_DIR+\"model_bayes_optimization.sav\"\n",
    "pickle.dump(clf, open(filename, \"wb\"))"
   ]
  },
  {
   "cell_type": "code",
   "execution_count": null,
   "id": "34cb651d",
   "metadata": {},
   "outputs": [],
   "source": [
    "estim=clf.best_estimator_\n",
    "scores = []\n",
    "for train_idx, test_idx in index_pairs: \n",
    "    X_tr, X_te = training.iloc[train_idx], training.iloc[test_idx]\n",
    "    y_tr, y_te = y_train[train_idx], y_train[test_idx]\n",
    "    w_tr, _ = weights[train_idx], weights[test_idx]\n",
    "\n",
    "    estim.fit(X_tr, y_tr, sample_weight=w_tr)\n",
    "    surv_fns = estim.predict_survival_function(X_te)\n",
    "    preds = np.asarray([[fn(t) for t in [4.0, 8.0]] for fn in surv_fns])\n",
    "\n",
    "    score = integrated_brier_score(y_tr, y_te, preds, [4.0, 8.0])\n",
    "    scores.append(score)"
   ]
  },
  {
   "cell_type": "code",
   "execution_count": null,
   "id": "c5ebc5e4",
   "metadata": {},
   "outputs": [],
   "source": [
    "df_res=pd.DataFrame(clf.cv_results_)\n",
    "columns_new=df_res.columns[df_res.columns.str.startswith(\"param_\")]\n",
    "df_res_filtered=df_res.filter(columns_new.tolist()+[\"mean_test_score\",\"std_test_score\",\"mean_train_score\",\"std_train_score\"],axis=1)\n",
    "df_res_filtered.sort_values(\"mean_test_score\")"
   ]
  },
  {
   "cell_type": "code",
   "execution_count": null,
   "id": "42114345",
   "metadata": {},
   "outputs": [],
   "source": [
    "survival_functions=clf.best_estimator_.predict_survival_function(training)\n",
    "surv_4 = np.vstack([chf(4.0) for chf in survival_functions])\n",
    "surv_8 = np.vstack([chf(8.0) for chf in survival_functions])\n",
    "\n",
    "\n",
    "status=[i[0] for i in y_train]\n",
    "time=[i[1] for i in y_train]\n",
    "\n",
    "clf_chf_funcs = clf.best_estimator_.predict_cumulative_hazard_function(training, return_array=False)\n",
    "clf_risk_scores_4 = np.vstack([chf(4.0) for chf in clf_chf_funcs])\n",
    "clf_risk_scores_8 = np.vstack([chf(8.0) for chf in clf_chf_funcs])\n",
    "\n",
    "cic_4=concordance_index_censored(status, time, clf_risk_scores_4[:,0].tolist())[0]\n",
    "cic_8=concordance_index_censored(status, time, clf_risk_scores_8[:,0].tolist())[0]\n",
    "\n",
    "cii_4=concordance_index_ipcw(y_train,y_train,clf_risk_scores_4[:,0].tolist(),tau=4.0)[0]\n",
    "cii_8=concordance_index_ipcw(y_train,y_train,clf_risk_scores_8[:,0].tolist(),tau=8.0)[0]\n",
    "\n",
    "auc_4=cumulative_dynamic_auc(y_train, y_train, clf_risk_scores_4[:,0].tolist(), 4.0)[1]\n",
    "auc_8=cumulative_dynamic_auc(y_train, y_train, clf_risk_scores_8[:,0].tolist(), 8.0)[1]\n",
    "\n",
    "bs_4=brier_score(y_train, y_train, surv_4[:,0], 4.0)[1][0]\n",
    "bs_8=brier_score(y_train, y_train, surv_8[:,0], 8.0)[1][0]\n",
    "\n",
    "\n",
    "print(\"cic_4: \"+str(round(cic_4*100,3)))\n",
    "print(\"cic_8: \"+str(round(cic_8*100,3)))\n",
    "print(\"cii_4: \"+str(round(cii_4*100,3)))\n",
    "print(\"cii_8: \"+str(round(cii_8*100,3)))\n",
    "print(\"auc_4: \"+str(round(auc_4*100,3)))\n",
    "print(\"auc_8: \"+str(round(auc_8*100,3)))\n",
    "print(\"bs_4: \"+str(round(bs_4*100,3)))\n",
    "print(\"bs_8: \"+str(round(bs_8*100,3)))"
   ]
  },
  {
   "cell_type": "code",
   "execution_count": null,
   "id": "0b66e81c",
   "metadata": {},
   "outputs": [],
   "source": [
    "dt=np.dtype(\"bool,float\")\n",
    "\n",
    "y_test=np.array(list_Y_test,dtype=dt)"
   ]
  },
  {
   "cell_type": "code",
   "execution_count": null,
   "id": "db6e0a1f",
   "metadata": {},
   "outputs": [],
   "source": [
    "survival_functions=clf.best_estimator_.predict_survival_function(test)\n",
    "surv_4 = np.vstack([chf(4.0) for chf in survival_functions])\n",
    "surv_8 = np.vstack([chf(8.0) for chf in survival_functions])\n",
    "\n",
    "\n",
    "status=[i[0] for i in y_test]\n",
    "time=[i[1] for i in y_test]\n",
    "\n",
    "clf_chf_funcs = clf.best_estimator_.predict_cumulative_hazard_function(test, return_array=False)\n",
    "clf_risk_scores_4 = np.vstack([chf(4.0) for chf in clf_chf_funcs])\n",
    "clf_risk_scores_8 = np.vstack([chf(8.0) for chf in clf_chf_funcs])\n",
    "\n",
    "cic_4=concordance_index_censored(status, time, clf_risk_scores_4[:,0].tolist())[0]\n",
    "cic_8=concordance_index_censored(status, time, clf_risk_scores_8[:,0].tolist())[0]\n",
    "\n",
    "cii_4=concordance_index_ipcw(y_train,y_test,clf_risk_scores_4[:,0].tolist(),tau=4.0)[0]\n",
    "cii_8=concordance_index_ipcw(y_train,y_test,clf_risk_scores_8[:,0].tolist(),tau=8.0)[0]\n",
    "\n",
    "auc_4=cumulative_dynamic_auc(y_train, y_test, clf_risk_scores_4[:,0].tolist(), 4.0)[1]\n",
    "auc_8=cumulative_dynamic_auc(y_train, y_test, clf_risk_scores_8[:,0].tolist(), 8.0)[1]\n",
    "\n",
    "bs_4=brier_score(y_train, y_test, surv_4[:,0], 4.0)[1][0]\n",
    "bs_8=brier_score(y_train, y_test, surv_8[:,0], 8.0)[1][0]\n",
    "\n",
    "\n",
    "print(\"cic_4: \"+str(round(cic_4*100,3)))\n",
    "print(\"cic_8: \"+str(round(cic_8*100,3)))\n",
    "print(\"cii_4: \"+str(round(cii_4*100,3)))\n",
    "print(\"cii_8: \"+str(round(cii_8*100,3)))\n",
    "print(\"auc_4: \"+str(round(auc_4*100,3)))\n",
    "print(\"auc_8: \"+str(round(auc_8*100,3)))\n",
    "print(\"bs_4: \"+str(round(bs_4*100,3)))\n",
    "print(\"bs_8: \"+str(round(bs_8*100,3)))"
   ]
  },
  {
   "cell_type": "code",
   "execution_count": null,
   "id": "31d7dac3",
   "metadata": {},
   "outputs": [],
   "source": [
    "df=pd.DataFrame({\"model\":[MODEL_DIR.split(\"/\")[2].split(\"_\")[0]+\"_sw\"],\"features\":[FEATURE_SET],\"problem\":[DATASET_SEL],\"concordance_index_ipcw_mean_CV\":np.mean(scores),\"concordance_index_ipcw_std_CV\":np.std(scores),\"concordance_index_censored_4\":[cic_4],\"concordance_index_censored_8\":[cic_8],\"concordance_index_ipcw_4\":[cii_4],\"concordance_index_ipcw_8\":[cii_8],\"cumulative_dynamic_auc_4\": [auc_4],\"cumulative_dynamic_auc_8\": [auc_8],\"brier_score_4\":[bs_4],\"brier_score_8\":[bs_8]})\n",
    "df.to_csv(MODEL_DIR+\"res_table.csv\")"
   ]
  },
  {
   "cell_type": "code",
   "execution_count": null,
   "id": "3b9dffe7",
   "metadata": {},
   "outputs": [],
   "source": [
    "filename=MODEL_DIR+\"y_test.sav\"\n",
    "pickle.dump(y_test, open(filename, \"wb\"))"
   ]
  },
  {
   "cell_type": "code",
   "execution_count": null,
   "id": "32c0073a",
   "metadata": {},
   "outputs": [],
   "source": [
    "filename=MODEL_DIR+\"y_train.sav\"\n",
    "pickle.dump(y_train, open(filename, \"wb\"))"
   ]
  }
 ],
 "metadata": {
  "kernelspec": {
   "display_name": "Python 3 (ipykernel)",
   "language": "python",
   "name": "python3"
  },
  "language_info": {
   "codemirror_mode": {
    "name": "ipython",
    "version": 3
   },
   "file_extension": ".py",
   "mimetype": "text/x-python",
   "name": "python",
   "nbconvert_exporter": "python",
   "pygments_lexer": "ipython3",
   "version": "3.8.10"
  }
 },
 "nbformat": 4,
 "nbformat_minor": 5
}
