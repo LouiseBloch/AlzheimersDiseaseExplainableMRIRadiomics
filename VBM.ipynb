{
 "cells": [
  {
   "cell_type": "code",
   "execution_count": null,
   "id": "31839f46",
   "metadata": {},
   "outputs": [],
   "source": []
  },
  {
   "cell_type": "code",
   "execution_count": null,
   "id": "c47af24e",
   "metadata": {},
   "outputs": [],
   "source": [
    "# versions: pandas==2.0.3, nibabel==5.2.1, numpy==1.24.4, scipy==1.8.0"
   ]
  },
  {
   "cell_type": "code",
   "execution_count": null,
   "id": "9a43744b",
   "metadata": {},
   "outputs": [],
   "source": [
    "import pandas as pd\n",
    "import os\n",
    "import nibabel as nib\n",
    "import numpy as np\n",
    "from scipy.ndimage import gaussian_filter\n"
   ]
  },
  {
   "cell_type": "code",
   "execution_count": null,
   "id": "4882bf1e",
   "metadata": {},
   "outputs": [],
   "source": []
  },
  {
   "cell_type": "code",
   "execution_count": null,
   "id": "808c4c97",
   "metadata": {},
   "outputs": [],
   "source": [
    "DATASET_TRAIN=\"./data/CN+MCI_BL+VOL_train.csv\"\n",
    "DATASET_TEST=\"./data/CN+MCI_BL+VOL_test.csv\"\n",
    "FASTSURFER_OUTPUT_DIR=\"./data/ADNI/output_fastsurfer/\"\n",
    "VBM_RESULTS_DIR=\"./results/VBM/ADNI/\""
   ]
  },
  {
   "cell_type": "code",
   "execution_count": null,
   "id": "59140288",
   "metadata": {},
   "outputs": [],
   "source": [
    "data_aseg=pd.read_table(FASTSURFER_OUTPUT_DIR+\"aseg_stats.txt\")\n",
    "\n",
    "\n",
    "data_aseg=data_aseg.rename({\"Measure:volume\":\"filename\"},axis=1)\n",
    "data_aseg[\"IMAGEUID\"]=data_aseg.filename.str.split(\"_I\").str[-1].str[:-1]\n",
    "data_aseg=data_aseg.astype({\"IMAGEUID\": \"str\"})\n",
    "data_aseg=data_aseg.filter([\"filename\",\"IMAGEUID\"])\n",
    "paths=FASTSURFER_OUTPUT_DIR+data_aseg.filename+\"/mri/mri/mwp1norm.nii\"\n",
    "data_aseg[\"filename_mwp1\"]=paths"
   ]
  },
  {
   "cell_type": "code",
   "execution_count": null,
   "id": "928a8d47",
   "metadata": {},
   "outputs": [],
   "source": []
  },
  {
   "cell_type": "code",
   "execution_count": null,
   "id": "0adece4b",
   "metadata": {},
   "outputs": [],
   "source": [
    "train=pd.read_csv(DATASET_TRAIN)\n",
    "test=pd.read_csv(DATASET_TEST)"
   ]
  },
  {
   "cell_type": "code",
   "execution_count": null,
   "id": "1a1ee9aa",
   "metadata": {},
   "outputs": [],
   "source": []
  },
  {
   "cell_type": "code",
   "execution_count": null,
   "id": "ccef69f6",
   "metadata": {},
   "outputs": [],
   "source": [
    "trainvalidDF=pd.concat([train,test],ignore_index=True)\n",
    "trainvalidDF=trainvalidDF.astype({\"IMAGEUID\": \"str\"})\n"
   ]
  },
  {
   "cell_type": "code",
   "execution_count": null,
   "id": "c2b7a73d",
   "metadata": {},
   "outputs": [],
   "source": [
    "trainvalidDF=pd.merge(trainvalidDF,data_aseg,on=\"IMAGEUID\",how=\"left\")"
   ]
  },
  {
   "cell_type": "code",
   "execution_count": null,
   "id": "7673a83d",
   "metadata": {},
   "outputs": [],
   "source": [
    "def fwhm2sigma(fwhm):\n",
    "    return fwhm / np.sqrt(8 * np.log(2))\n",
    "sigma = fwhm2sigma(8/1.5)"
   ]
  },
  {
   "cell_type": "code",
   "execution_count": null,
   "id": "da9e2488",
   "metadata": {},
   "outputs": [],
   "source": [
    "i=0\n",
    "for index,dft in trainvalidDF.iterrows():\n",
    "    age=dft[\"AGE\"]\n",
    "    gender=dft[\"PTGENDER_Male\"]\n",
    "    time=dft[\"Time\"]\n",
    "    status=dft[\"Status\"]\n",
    "    ptid=dft[\"PTID\"]\n",
    "    imageuid=dft[\"IMAGEUID\"]\n",
    "    if not os.path.isfile(\"./Results_VBM/FastSurfer_Results_TimeToEvent_all_Untersuchung_TrainValidTest_pixel_1749352.csv\"):\n",
    "        template_img = nib.load(dft[\"filename_mwp1\"])\n",
    "        template_data = np.asanyarray(template_img.dataobj)\n",
    "        smoothed_volume = gaussian_filter(template_data, sigma)\n",
    "\n",
    "        fieldstrength=dft[\"MagStrength_3.0\"]\n",
    "        eTIV=dft[\"EstimatedTotalIntraCranialVol\"]\n",
    "        for index_pixel in range(0,smoothed_volume.flatten().shape[0]):\n",
    "            with open(\"./Results_VBM/FastSurfer_Results_TimeToEvent_all_Untersuchung_TrainValidTest_pixel_\"+str(index_pixel)+\".csv\", \"ab\") as f:\n",
    "                np.savetxt(f,[[smoothed_volume.flatten()[index_pixel],age,gender,time,status,fieldstrength,eTIV,ptid,imageuid]], delimiter=\",\", fmt=\"%s\")\n",
    "                f.write(b\"\\n\")\n",
    "    else:\n",
    "        df=pd.read_csv(\"./Results_VBM/FastSurfer_Results_TimeToEvent_all_Untersuchung_TrainValidTest_pixel_1749352.csv\",header=None)\n",
    "        df.columns=[\"pixel\",\"age\",\"gender\",\"time\",\"status\",\"fieldstrength\",\"eTIV\",\"ptid\",\"imageuid\"]\n",
    "        if not int(imageuid) in df.imageuid.tolist():\n",
    "            template_img = nib.load(dft[\"filename_mwp1\"])\n",
    "            template_data = np.asanyarray(template_img.dataobj)\n",
    "            smoothed_volume = gaussian_filter(template_data, sigma)\n",
    "            fieldstrength=dft[\"MagStrength_3.0\"]\n",
    "            eTIV=dft[\"EstimatedTotalIntraCranialVol\"]\n",
    "            for index_pixel in range(0,smoothed_volume.flatten().shape[0]):\n",
    "                with open(VBM_RESULTS_DIR+\"FastSurfer_Results_TimeToEvent_all_Untersuchung_TrainValidTest_pixel_\"+str(index_pixel)+\".csv\", \"ab\") as f:\n",
    "                    np.savetxt(f,[[smoothed_volume.flatten()[index_pixel],age,gender,time,status,fieldstrength,eTIV,ptid,imageuid]], delimiter=\",\", fmt=\"%s\")\n",
    "                    f.write(b\"\\n\")"
   ]
  }
 ],
 "metadata": {
  "kernelspec": {
   "display_name": "Python 3 (ipykernel)",
   "language": "python",
   "name": "python3"
  },
  "language_info": {
   "codemirror_mode": {
    "name": "ipython",
    "version": 3
   },
   "file_extension": ".py",
   "mimetype": "text/x-python",
   "name": "python",
   "nbconvert_exporter": "python",
   "pygments_lexer": "ipython3",
   "version": "3.8.10"
  }
 },
 "nbformat": 4,
 "nbformat_minor": 5
}
