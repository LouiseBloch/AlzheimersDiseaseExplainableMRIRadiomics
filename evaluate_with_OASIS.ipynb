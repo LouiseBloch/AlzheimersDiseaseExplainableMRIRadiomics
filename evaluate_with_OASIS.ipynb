{
 "cells": [
  {
   "cell_type": "code",
   "execution_count": null,
   "id": "c8272cb2-9f9b-4fb0-b82f-6767ed5f94e4",
   "metadata": {},
   "outputs": [],
   "source": [
    "# versions: pandas==2.1.1, numpy==1.26.4, scikit-survival==0.24.1"
   ]
  },
  {
   "cell_type": "code",
   "execution_count": null,
   "id": "509fcd58-d7d0-4442-acee-3d37dbf2ecd1",
   "metadata": {},
   "outputs": [],
   "source": []
  },
  {
   "cell_type": "code",
   "execution_count": null,
   "id": "5af24d4a-2e4a-4ee4-b412-ae784a2728eb",
   "metadata": {},
   "outputs": [],
   "source": [
    "import pandas as pd\n",
    "import os\n",
    "import pickle\n",
    "import numpy as np\n",
    "from sksurv.metrics import concordance_index_censored,concordance_index_ipcw,brier_score,cumulative_dynamic_auc,brier_score,integrated_brier_score\n"
   ]
  },
  {
   "cell_type": "code",
   "execution_count": null,
   "id": "c2bda14d-64b3-4600-8ae4-adbc2676b99e",
   "metadata": {},
   "outputs": [],
   "source": [
    "OASIS_DATASET_FILE=\"./data/OASIS_all.csv\"\n",
    "FEATURE_SET = \"rBL\"#one of \"rBL\", \"rBL+VOL\", \"rBL+RAD\", \"rBL+VOL+RAD\"\n",
    "DATASET_SEL = \"CN+MCI\" #one of \"CN+MCI\", \"MCI\"\n",
    "MODEL=\"CoxnetSurvivalAnalysis\" # one of \"CoxnetSurvivalAnalysis\", \"CoxPHSurvivalAnalysis\", \"ExtraSurvivalTrees\", \"GradientBoostingSurvivalAnalysis\", \"RandomSurvivalForest\"\n",
    "SAMPLE_WEIGHTS=True # True or False\n"
   ]
  },
  {
   "cell_type": "code",
   "execution_count": null,
   "id": "f0582485-0a5e-4cea-b1ca-f4fab05dc9a2",
   "metadata": {},
   "outputs": [],
   "source": [
    "if SAMPLE_WEIGHTS:\n",
    "    MODEL_DIR = os.path.join(\"./results/\"+MODEL+\"sw_\"+DATASET_SEL+\"_\"+FEATURE_SET+\"/\")\n",
    "else:\n",
    "    MODEL_DIR = os.path.join(\"./results/\"+MODEL+\"_\"+DATASET_SEL+\"_\"+FEATURE_SET+\"/\")"
   ]
  },
  {
   "cell_type": "code",
   "execution_count": null,
   "id": "82194341-5b5a-44e8-9c56-4f1b7d655eef",
   "metadata": {},
   "outputs": [],
   "source": [
    "OASIS_dataset=pd.read_csv(OASIS_DATASET_FILE)\n",
    "OASIS_dataset=pd.get_dummies(OASIS_dataset, columns=[\"APOE4\",\"PTGENDER\",\"MagStrength\"])\n",
    "OASIS_dataset=OASIS_dataset.rename({\"LDELTOTAL\":\"LDELTOT\",\"MMSCORE\":\"MMSE\"},axis=1)\n",
    "OASIS_dataset=OASIS_dataset.set_index([\"PTID\"])"
   ]
  },
  {
   "cell_type": "code",
   "execution_count": null,
   "id": "6b7e0017-fca9-4d6c-962f-e60a1914282d",
   "metadata": {},
   "outputs": [],
   "source": [
    "def ipcw_brier_scorer(estimator, X, y):\n",
    "    scores = []\n",
    "    for train_idx, test_idx in index_pairs:  \n",
    "        X_tr, X_te = X.iloc[train_idx], X.iloc[test_idx]\n",
    "        y_tr, y_te = y[train_idx], y[test_idx]\n",
    "        w_tr, _ = weights[train_idx], weights[test_idx]\n",
    "\n",
    "        estimator.fit(X_tr, y_tr, sample_weight=w_tr)\n",
    "        surv_fns = estimator.predict_survival_function(X_te)\n",
    "        preds = np.asarray([[fn(t) for t in [4.0, 8.0]] for fn in surv_fns])\n",
    "\n",
    "        score = integrated_brier_score(y_tr, y_te, preds, [4.0, 8.0])\n",
    "        scores.append(score)\n",
    "    return -np.mean(scores)"
   ]
  },
  {
   "cell_type": "code",
   "execution_count": null,
   "id": "29b509de-eab5-4c6a-8aad-6b1cadb7c04c",
   "metadata": {},
   "outputs": [],
   "source": [
    "if(os.path.exists(MODEL_DIR+\"/normalization_models.sav\")):\n",
    "    filename=MODEL_DIR+\"/normalization_models.sav\"\n",
    "    normalization_models=pickle.load(open(filename, \"rb\"))\n",
    "    for col in normalization_models.keys():\n",
    "        x_test=OASIS_dataset[\"MagStrength_3.0\"].astype(int).to_numpy().reshape((-1, 1))\n",
    "        model = normalization_models[col]\n",
    "        pred_test=model.predict(x_test)\n",
    "        OASIS_dataset.loc[:,col]=OASIS_dataset[col]-pred_test"
   ]
  },
  {
   "cell_type": "code",
   "execution_count": null,
   "id": "e7d47459-db5d-47a8-8c27-5a9cc273ed75",
   "metadata": {},
   "outputs": [],
   "source": [
    "filename=MODEL_DIR+\"model_bayes_optimization.sav\"\n",
    "clf=pickle.load(open(filename, \"rb\"))"
   ]
  },
  {
   "cell_type": "code",
   "execution_count": null,
   "id": "10d307bb-97c3-4f0e-9cfb-13ef635e46ff",
   "metadata": {},
   "outputs": [],
   "source": [
    "filename=MODEL_DIR+\"preprocessing_entire_training.sav\"\n",
    "dict_preproc=pickle.load(open(filename, \"rb\"))"
   ]
  },
  {
   "cell_type": "code",
   "execution_count": null,
   "id": "6dc9dd37-7a8a-4d3e-841d-ab950ea02cd7",
   "metadata": {},
   "outputs": [],
   "source": [
    "features=dict_preproc[\"imputation\"].get_feature_names_out()"
   ]
  },
  {
   "cell_type": "code",
   "execution_count": null,
   "id": "c4df17fb-9493-4bb2-803f-a385f80d6b5c",
   "metadata": {},
   "outputs": [],
   "source": [
    "df_ges=OASIS_dataset.filter(features,axis=1)"
   ]
  },
  {
   "cell_type": "code",
   "execution_count": null,
   "id": "5f7ef503-3646-43d7-84bf-671138a2b9cd",
   "metadata": {},
   "outputs": [],
   "source": [
    "imp = dict_preproc[\"imputation\"]\n",
    "X_test_pre_imp=imp.transform(df_ges)\n",
    "scaler = dict_preproc[\"scaler\"]\n",
    "X_test_pre=scaler.transform(X_test_pre_imp)"
   ]
  },
  {
   "cell_type": "code",
   "execution_count": null,
   "id": "c61d46f2-f091-43c9-9118-8b4dc508fa81",
   "metadata": {},
   "outputs": [],
   "source": [
    "dataNamed_test=pd.DataFrame(X_test_pre,columns=dict_preproc[\"imputation\"].get_feature_names_out())"
   ]
  },
  {
   "cell_type": "code",
   "execution_count": null,
   "id": "18628a39-a6b3-4a78-82ee-50c55e7cd44a",
   "metadata": {},
   "outputs": [],
   "source": [
    "dataNamed_test[\"PTID\"]=df_ges.index.get_level_values(0).tolist()\n",
    "dataNamed_test=dataNamed_test.set_index([\"PTID\"])"
   ]
  },
  {
   "cell_type": "code",
   "execution_count": null,
   "id": "63a4f250-58f6-4380-856d-01b43cefefc3",
   "metadata": {},
   "outputs": [],
   "source": [
    "filename=MODEL_DIR+\"discr_ind.sav\"\n",
    "discr_ind=pickle.load(open(filename, \"rb\"))\n",
    "for ind in discr_ind:\n",
    "    col=imp.get_feature_names_out()[ind]\n",
    "    dataNamed_test[col]=X_test_pre_imp[:,ind]"
   ]
  },
  {
   "cell_type": "code",
   "execution_count": null,
   "id": "00da8ad9-b08f-4bfc-a91b-6f1d7dfa1d91",
   "metadata": {},
   "outputs": [],
   "source": [
    "trainingDSCSV=MODEL_DIR+\"/training.csv\"\n",
    "df_train=pd.read_csv(trainingDSCSV)\n",
    "df_train=df_train.set_index([\"PTID\",\"IMAGEUID\"])"
   ]
  },
  {
   "cell_type": "code",
   "execution_count": null,
   "id": "ab43ff42-b3f4-4a14-a6d8-82ba154ff3c2",
   "metadata": {},
   "outputs": [],
   "source": [
    "test=dataNamed_test.filter(df_train.columns,axis=1)"
   ]
  },
  {
   "cell_type": "code",
   "execution_count": null,
   "id": "3f0f7912-07ce-4530-a8cc-46d7501cf58d",
   "metadata": {},
   "outputs": [],
   "source": [
    "list_Y_test=list()\n",
    "for i, dat in OASIS_dataset.iterrows():\n",
    "    statNew=False\n",
    "    time=dat.Time\n",
    "    if (dat.Status==\"sCN\") or (dat.Status==\"sMCI\") or (dat.Status==\"CNtoMCI\") or (dat.Status==\"uMCINoAD\") or (dat.Status==\"uCNNoAD\") or (dat.Status==\"CNtoMCI\"):\n",
    "        statNew=False\n",
    "    else:\n",
    "        statNew=True\n",
    "    list_Y_test.append((statNew,time))"
   ]
  },
  {
   "cell_type": "code",
   "execution_count": null,
   "id": "7bf2bb0e-f4cb-4e7b-ac04-f4cc68294cfd",
   "metadata": {},
   "outputs": [],
   "source": [
    "dt=np.dtype(\"bool,float\")\n",
    "\n",
    "y_test=np.array(list_Y_test,dtype=dt)"
   ]
  },
  {
   "cell_type": "code",
   "execution_count": null,
   "id": "58e3732d-5493-4428-8d23-78de1896a88c",
   "metadata": {},
   "outputs": [],
   "source": [
    "df_res=pd.read_csv(MODEL_DIR+\"res_table.csv\")"
   ]
  },
  {
   "cell_type": "code",
   "execution_count": null,
   "id": "b92839ad-16a9-4005-acb7-d18f24d4659c",
   "metadata": {},
   "outputs": [],
   "source": [
    "filename=MODEL_DIR+\"y_train.sav\"\n",
    "y_train=pickle.load(open(filename, \"rb\"))"
   ]
  },
  {
   "cell_type": "code",
   "execution_count": null,
   "id": "a4cd55c2-e402-4525-a2fe-1bef50298042",
   "metadata": {},
   "outputs": [],
   "source": [
    "if SAMPLE_WEIGHTS:\n",
    "    survival_functions=clf.best_estimator_.predict_survival_function(test)\n",
    "    surv_4 = np.vstack([chf(4.0) for chf in survival_functions])\n",
    "    surv_8 = np.vstack([chf(8.0) for chf in survival_functions])\n",
    "    \n",
    "    \n",
    "    status=[i[0] for i in y_test]\n",
    "    time=[i[1] for i in y_test]\n",
    "    \n",
    "    clf_chf_funcs = clf.best_estimator_.predict_cumulative_hazard_function(test, return_array=False)\n",
    "    clf_risk_scores_4 = np.vstack([chf(4.0) for chf in clf_chf_funcs])\n",
    "    clf_risk_scores_8 = np.vstack([chf(8.0) for chf in clf_chf_funcs])\n",
    "    \n",
    "    cic_4=concordance_index_censored(status, time, clf_risk_scores_4[:,0].tolist())[0]\n",
    "    cic_8=concordance_index_censored(status, time, clf_risk_scores_8[:,0].tolist())[0]\n",
    "    \n",
    "    cii_4=concordance_index_ipcw(y_train,y_test,clf_risk_scores_4[:,0].tolist(),tau=4.0)[0]\n",
    "    cii_8=concordance_index_ipcw(y_train,y_test,clf_risk_scores_8[:,0].tolist(),tau=8.0)[0]\n",
    "    \n",
    "    auc_4=cumulative_dynamic_auc(y_train, y_test, clf_risk_scores_4[:,0].tolist(), 4.0)[1]\n",
    "    auc_8=cumulative_dynamic_auc(y_train, y_test, clf_risk_scores_8[:,0].tolist(), 8.0)[1]\n",
    "    \n",
    "    bs_4=brier_score(y_train, y_test, surv_4[:,0], 4.0)[1][0]\n",
    "    bs_8=brier_score(y_train, y_test, surv_8[:,0], 8.0)[1][0]\n",
    "    \n",
    "    \n",
    "    print(\"cic_4: \"+str(round(cic_4*100,3)))\n",
    "    print(\"cic_8: \"+str(round(cic_8*100,3)))\n",
    "    print(\"cii_4: \"+str(round(cii_4*100,3)))\n",
    "    print(\"cii_8: \"+str(round(cii_8*100,3)))\n",
    "    print(\"auc_4: \"+str(round(auc_4*100,3)))\n",
    "    print(\"auc_8: \"+str(round(auc_8*100,3)))\n",
    "    print(\"bs_4: \"+str(round(bs_4*100,3)))\n",
    "    print(\"bs_8: \"+str(round(bs_8*100,3)))\n",
    "else:\n",
    "    survival_functions=clf.best_estimator_.predict_survival_function(test)\n",
    "    surv_4 = np.vstack([chf(4.0) for chf in survival_functions])\n",
    "    surv_8 = np.vstack([chf(8.0) for chf in survival_functions])\n",
    "    \n",
    "    \n",
    "    status=[i[0] for i in y_test]\n",
    "    time=[i[1] for i in y_test]\n",
    "    \n",
    "    clf_chf_funcs = clf.best_estimator_.estimator_.predict_cumulative_hazard_function(test, return_array=False)\n",
    "    clf_risk_scores_4 = np.vstack([chf(4.0) for chf in clf_chf_funcs])\n",
    "    clf_risk_scores_8 = np.vstack([chf(8.0) for chf in clf_chf_funcs])\n",
    "    \n",
    "    cic_4=concordance_index_censored(status, time, clf_risk_scores_4[:,0].tolist())[0]\n",
    "    cic_8=concordance_index_censored(status, time, clf_risk_scores_8[:,0].tolist())[0]\n",
    "    \n",
    "    cii_4=concordance_index_ipcw(y_train,y_test,clf_risk_scores_4[:,0].tolist(),tau=4.0)[0]\n",
    "    cii_8=concordance_index_ipcw(y_train,y_test,clf_risk_scores_8[:,0].tolist(),tau=8.0)[0]\n",
    "    \n",
    "    auc_4=cumulative_dynamic_auc(y_train, y_test, clf_risk_scores_4[:,0].tolist(), 4.0)[1]\n",
    "    auc_8=cumulative_dynamic_auc(y_train, y_test, clf_risk_scores_8[:,0].tolist(), 8.0)[1]\n",
    "    \n",
    "    bs_4=brier_score(y_train, y_test, surv_4[:,0], 4.0)[1][0]\n",
    "    bs_8=brier_score(y_train, y_test, surv_8[:,0], 8.0)[1][0]\n",
    "    \n",
    "    \n",
    "    print(\"cic_4: \"+str(round(cic_4*100,3)))\n",
    "    print(\"cic_8: \"+str(round(cic_8*100,3)))\n",
    "    print(\"cii_4: \"+str(round(cii_4*100,3)))\n",
    "    print(\"cii_8: \"+str(round(cii_8*100,3)))\n",
    "    print(\"auc_4: \"+str(round(auc_4*100,3)))\n",
    "    print(\"auc_8: \"+str(round(auc_8*100,3)))\n",
    "    print(\"bs_4: \"+str(round(bs_4*100,3)))\n",
    "    print(\"bs_8: \"+str(round(bs_8*100,3)))"
   ]
  },
  {
   "cell_type": "code",
   "execution_count": null,
   "id": "8d89aaad-61cb-4bd9-a253-5a720da4aae3",
   "metadata": {},
   "outputs": [],
   "source": [
    "df=pd.DataFrame({\"model\":[MODEL_DIR.split(\"/\")[2].split(\"_\")[0]],\"features\":[FEATURE_SET],\"problem\":[DATASET_SEL],\"concordance_index_censored_4\":[cic_4],\"concordance_index_censored_8\":[cic_8],\"concordance_index_ipcw_4\":[cii_4],\"concordance_index_ipcw_8\":[cii_8],\"cumulative_dynamic_auc_4\": [auc_4],\"cumulative_dynamic_auc_8\": [auc_8],\"brier_score_4\":[bs_4],\"brier_score_8\":[bs_8]})\n",
    "df.to_csv(MODEL_DIR+\"res_table_OASIS.csv\")"
   ]
  },
  {
   "cell_type": "code",
   "execution_count": null,
   "id": "42158519-b52e-4b1b-b89d-59d2d7272d96",
   "metadata": {},
   "outputs": [],
   "source": []
  }
 ],
 "metadata": {
  "kernelspec": {
   "display_name": "Python 3 (ipykernel)",
   "language": "python",
   "name": "python3"
  },
  "language_info": {
   "codemirror_mode": {
    "name": "ipython",
    "version": 3
   },
   "file_extension": ".py",
   "mimetype": "text/x-python",
   "name": "python",
   "nbconvert_exporter": "python",
   "pygments_lexer": "ipython3",
   "version": "3.11.6"
  }
 },
 "nbformat": 4,
 "nbformat_minor": 5
}
