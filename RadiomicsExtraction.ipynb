{
 "cells": [
  {
   "cell_type": "code",
   "execution_count": null,
   "id": "343fb3f4",
   "metadata": {},
   "outputs": [],
   "source": [
    "##packages used: pyradiomics==3.0.1, nibabel==5.2.1, pandas==2.0.3, SimpleITK==2.3.1, numpy==1.24.4"
   ]
  },
  {
   "cell_type": "code",
   "execution_count": null,
   "id": "36286d4a-7f8b-4ba5-85c5-c26723fa7ffd",
   "metadata": {},
   "outputs": [],
   "source": [
    "import radiomics\n",
    "from radiomics import featureextractor \n",
    "import os\n",
    "import nibabel as nib\n",
    "import pandas as pd\n",
    "import SimpleITK as sitk\n",
    "import numpy as np\n",
    "import logging\n",
    "from glob import glob\n"
   ]
  },
  {
   "cell_type": "code",
   "execution_count": null,
   "id": "fd657e42",
   "metadata": {},
   "outputs": [],
   "source": [
    "logger = logging.getLogger(\"radiomics\")\n",
    "logger.setLevel(logging.ERROR)\n",
    "logger = logging.getLogger(\"radiomics.glcm\")\n",
    "logger.setLevel(logging.ERROR)"
   ]
  },
  {
   "cell_type": "code",
   "execution_count": null,
   "id": "4fbb8afb-926b-4db0-b985-812cc934a6dd",
   "metadata": {},
   "outputs": [],
   "source": [
    "OUTPUT_FASTSURFER_DIR=\"./ADNI/output_fastsurfer/\"\n",
    "RESULTS_DIR=\"./results/ADNI/Radiomics/\""
   ]
  },
  {
   "cell_type": "code",
   "execution_count": null,
   "id": "9f6b3419-4780-4c78-a201-d425ecf6dff5",
   "metadata": {},
   "outputs": [],
   "source": [
    "settings = {\"label\": 2,\"minimumROIDimensions\":1,\"voxelBatch\":20}\n",
    "\n",
    "extractor = radiomics.featureextractor.RadiomicsFeatureExtractor(**settings)"
   ]
  },
  {
   "cell_type": "code",
   "execution_count": null,
   "id": "3754b347",
   "metadata": {},
   "outputs": [],
   "source": [
    "first=os.listdir(OUTPUT_FASTSURFER_DIR)[0]\n",
    "imagePath=OUTPUT_FASTSURFER_DIR+first+\"/mri/norm.nii.gz\"\n",
    "maskPath=OUTPUT_FASTSURFER_DIR+first+\"/mri/aparc.DKTatlas+aseg.deep.mgz.nii.gz\""
   ]
  },
  {
   "cell_type": "code",
   "execution_count": null,
   "id": "66f0716c",
   "metadata": {},
   "outputs": [],
   "source": [
    "result = extractor.execute(imagePath, maskPath)"
   ]
  },
  {
   "cell_type": "code",
   "execution_count": null,
   "id": "f7a56b0d",
   "metadata": {},
   "outputs": [],
   "source": [
    "feature_names=[]\n",
    "for res in result:\n",
    "    if res.startswith(\"original\"):\n",
    "        feature_names.append(res)"
   ]
  },
  {
   "cell_type": "code",
   "execution_count": null,
   "id": "b159bfcd",
   "metadata": {},
   "outputs": [],
   "source": [
    "for test in glob(OUTPUT_FASTSURFER_DIR+\"*/\", recursive = False):\n",
    "    imagePath=test+\"mri/norm.nii.gz\"\n",
    "    maskPath=test+\"mri/aparc.DKTatlas+aseg.deep.mgz.nii.gz\"\n",
    "    if os.path.exists(imagePath) and os.path.exists(maskPath):\n",
    "        filename=RESULTS_DIR+imagePath.split(\"/\")[-3]+\".csv\"\n",
    "        if not os.path.exists(filename):\n",
    "            f = open(filename, \"x\")\n",
    "            f.close()\n",
    "            sitk_t1 = sitk.ReadImage(maskPath)\n",
    "            t1 = sitk.GetArrayFromImage(sitk_t1)\n",
    "            df=pd.DataFrame(columns=[\"path\",\"region\"]+feature_names)   \n",
    "            for label in np.unique(t1):\n",
    "                label=int(label)\n",
    "                if not label ==0:\n",
    "                    if (t1==label).sum()>1:\n",
    "                        settings = {\"label\": label,\"minimumROIDimensions\":1}\n",
    "                        extractor = radiomics.featureextractor.RadiomicsFeatureExtractor(**settings)\n",
    "                        result = extractor.execute(imagePath, maskPath)\n",
    "                        feature_names=[]\n",
    "                        feature_values=[]\n",
    "                        for res in result:\n",
    "                            if res.startswith(\"original\"):\n",
    "                                feature_names.append(res)\n",
    "                                feature_values.append(result[res].item())\n",
    "                        df=pd.concat([df,pd.DataFrame([[imagePath,label]+feature_values],columns=[\"path\",\"region\"]+feature_names)])\n",
    "            df.to_csv(filename,index=False)\n",
    "    break"
   ]
  }
 ],
 "metadata": {
  "kernelspec": {
   "display_name": "Python 3 (ipykernel)",
   "language": "python",
   "name": "python3"
  },
  "language_info": {
   "codemirror_mode": {
    "name": "ipython",
    "version": 3
   },
   "file_extension": ".py",
   "mimetype": "text/x-python",
   "name": "python",
   "nbconvert_exporter": "python",
   "pygments_lexer": "ipython3",
   "version": "3.8.10"
  }
 },
 "nbformat": 4,
 "nbformat_minor": 5
}
